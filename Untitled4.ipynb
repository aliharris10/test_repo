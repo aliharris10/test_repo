{
 "cells": [
  {
   "cell_type": "code",
   "execution_count": 1,
   "id": "4c368f63",
   "metadata": {},
   "outputs": [
    {
     "name": "stdout",
     "output_type": "stream",
     "text": [
      "Ali Harris 30\n"
     ]
    }
   ],
   "source": [
    "age = 30\n",
    "name = \"Ali Harris\"\n",
    "print(name, age)"
   ]
  },
  {
   "cell_type": "code",
   "execution_count": 12,
   "id": "d5085a8b",
   "metadata": {},
   "outputs": [
    {
     "name": "stdout",
     "output_type": "stream",
     "text": [
      "Ali Harris : 30\n"
     ]
    }
   ],
   "source": [
    "print(name, age, sep = ' : ')"
   ]
  },
  {
   "cell_type": "code",
   "execution_count": 13,
   "id": "a52eec93",
   "metadata": {},
   "outputs": [],
   "source": [
    "def fibo_series(n):\n",
    "    a=1\n",
    "    b=1\n",
    "    print(\"Fibonacci Series: \", end=' ')\n",
    "    if n<1:\n",
    "        print(\"Incorrect input\")\n",
    "    elif n==1:\n",
    "        print('0', end=' ')\n",
    "    elif n==2:\n",
    "        print('0','1', end=' ')\n",
    "    else:\n",
    "        print('0',a,b,end=' ')\n",
    "        for i in range(n-3):\n",
    "            c = a + b\n",
    "            print(c, end=' ')\n",
    "            a = b  \n",
    "            b = c\n",
    "        print()"
   ]
  },
  {
   "cell_type": "code",
   "execution_count": 15,
   "id": "3ded0d88",
   "metadata": {},
   "outputs": [
    {
     "name": "stdout",
     "output_type": "stream",
     "text": [
      "Fibonacci Series:  0 1 1 2 3 5 8 13 21 34 55 89 144 233 377 610 987 1597 2584 4181 \n"
     ]
    }
   ],
   "source": [
    "fibo_series(20)"
   ]
  },
  {
   "cell_type": "code",
   "execution_count": 16,
   "id": "af88aa12",
   "metadata": {},
   "outputs": [
    {
     "name": "stdout",
     "output_type": "stream",
     "text": [
      "age = 30\n",
      "name = \"Ali Harris\"\n",
      "print(name, age)\n",
      "4 ** 2\n",
      "print(name)\n",
      "print(name)\n",
      "print(name, age, end = '')\n",
      "print(name)\n",
      "print(age)\n",
      "print(name, end = '')\n",
      "print(age)\n",
      "print(name, end = ' ')\n",
      "print(age)\n",
      "print(name, age, sep = )\n",
      "print(name, age, sep = '*')\n",
      "print(name, age, sep = ' * ')\n",
      "print(name, age, sep = ' : ')\n",
      "def fibo_series(n):\n",
      "    a=1\n",
      "    b=1\n",
      "    print(\"Fibonacci Series: \", end=' ')\n",
      "    if n<1:\n",
      "        print(\"Incorrect input\")\n",
      "    elif n==1:\n",
      "        print('0', end=' ')\n",
      "    elif n==2:\n",
      "        print('0','1', end=' ')\n",
      "    else:\n",
      "        print('0',a,b,end=' ')\n",
      "        for i in range(n-3):\n",
      "            c = a + b\n",
      "            print(c, end=' ')\n",
      "            a = b  \n",
      "            b = c\n",
      "        print()\n",
      "fibo_series(7)\n",
      "fibo_series(20)\n",
      "%history\n"
     ]
    }
   ],
   "source": [
    "%history"
   ]
  },
  {
   "cell_type": "markdown",
   "id": "3cba1918",
   "metadata": {},
   "source": [
    "# this will be a heading\n",
    "## this will be a small heading\n",
    "this is a normal text \n",
    "\n",
    "\n",
    "**this is a bold text**\n",
    "\n",
    "*this is an italics text*\n",
    "\n",
    "1. One\n",
    "2. Two \n",
    "3. Three\n",
    "\n",
    "- First\n",
    "- Second\n",
    "- Third\n",
    "\n",
    "`this is a code part`\n",
    "\n",
    "---\n",
    "[markdown_ok](https://www.markdownguide.org)\n",
    "\n",
    "| Syntax | Description |\n",
    "| ----------- | ----------- |\n",
    "| Header | Title |\n",
    "| Paragraph | Text |\n",
    "\n",
    "```\n",
    "{\n",
    "  \"firstName\": \"Arif\",\n",
    "  \"lastName\": \"Butt\",\n",
    "  \"age\": 51\n",
    "}\n",
    "```\n",
    "\n",
    "There is a footnote with Google [^1]\n",
    "\n",
    "[^1]: this is a foot-note\n",
    "        \n",
    "\n",
    "\n",
    "~~this is a strike-through text ~~"
   ]
  },
  {
   "cell_type": "code",
   "execution_count": 23,
   "id": "41045d08",
   "metadata": {},
   "outputs": [
    {
     "data": {
      "text/plain": [
       "str"
      ]
     },
     "execution_count": 23,
     "metadata": {},
     "output_type": "execute_result"
    }
   ],
   "source": [
    "type(name)"
   ]
  },
  {
   "cell_type": "code",
   "execution_count": 24,
   "id": "5cbf5560",
   "metadata": {
    "scrolled": true
   },
   "outputs": [
    {
     "data": {
      "text/plain": [
       "int"
      ]
     },
     "execution_count": 24,
     "metadata": {},
     "output_type": "execute_result"
    }
   ],
   "source": [
    "type(age)"
   ]
  },
  {
   "cell_type": "code",
   "execution_count": 28,
   "id": "5cb56fdc",
   "metadata": {},
   "outputs": [
    {
     "data": {
      "text/plain": [
       "(140708635418656, 140708635418656)"
      ]
     },
     "execution_count": 28,
     "metadata": {},
     "output_type": "execute_result"
    }
   ],
   "source": [
    "a = 10\n",
    "b = 10\n",
    "\n",
    "id(a), id(b)"
   ]
  },
  {
   "cell_type": "code",
   "execution_count": 34,
   "id": "bd2c2ee4",
   "metadata": {
    "scrolled": true
   },
   "outputs": [
    {
     "name": "stdout",
     "output_type": "stream",
     "text": [
      "['In', 'Out', '_', '_2', '_22', '_23', '_24', '_26', '_27', '_28', '_29', '__', '___', '__builtin__', '__builtins__', '__doc__', '__loader__', '__name__', '__package__', '__spec__', '_dh', '_i', '_i1', '_i10', '_i11', '_i12', '_i13', '_i14', '_i15', '_i16', '_i17', '_i18', '_i19', '_i2', '_i20', '_i21', '_i22', '_i23', '_i24', '_i25', '_i26', '_i27', '_i28', '_i29', '_i3', '_i30', '_i31', '_i32', '_i33', '_i34', '_i4', '_i5', '_i6', '_i7', '_i8', '_i9', '_ih', '_ii', '_iii', '_oh', 'age', 'b', 'exit', 'fibo_series', 'get_ipython', 'name', 'quit']\n"
     ]
    }
   ],
   "source": [
    "print(dir())\n",
    "\n"
   ]
  },
  {
   "cell_type": "code",
   "execution_count": 39,
   "id": "d224c0f2",
   "metadata": {},
   "outputs": [
    {
     "name": "stdout",
     "output_type": "stream",
     "text": [
      "['In', 'Out', '_', '_2', '_22', '_23', '_24', '_26', '_27', '_28', '_29', '__', '___', '__builtin__', '__builtins__', '__doc__', '__loader__', '__name__', '__package__', '__spec__', '_dh', '_i', '_i1', '_i10', '_i11', '_i12', '_i13', '_i14', '_i15', '_i16', '_i17', '_i18', '_i19', '_i2', '_i20', '_i21', '_i22', '_i23', '_i24', '_i25', '_i26', '_i27', '_i28', '_i29', '_i3', '_i30', '_i31', '_i32', '_i33', '_i34', '_i35', '_i36', '_i37', '_i38', '_i39', '_i4', '_i5', '_i6', '_i7', '_i8', '_i9', '_ih', '_ii', '_iii', '_oh', 'age', 'b', 'exit', 'fibo_series', 'get_ipython', 'name', 'quit']\n"
     ]
    }
   ],
   "source": [
    "print(dir())"
   ]
  }
 ],
 "metadata": {
  "kernelspec": {
   "display_name": "Python 3 (ipykernel)",
   "language": "python",
   "name": "python3"
  },
  "language_info": {
   "codemirror_mode": {
    "name": "ipython",
    "version": 3
   },
   "file_extension": ".py",
   "mimetype": "text/x-python",
   "name": "python",
   "nbconvert_exporter": "python",
   "pygments_lexer": "ipython3",
   "version": "3.8.11"
  }
 },
 "nbformat": 4,
 "nbformat_minor": 5
}
