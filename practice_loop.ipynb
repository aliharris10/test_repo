{
  "nbformat": 4,
  "nbformat_minor": 0,
  "metadata": {
    "colab": {
      "provenance": [],
      "authorship_tag": "ABX9TyMfI10uVB5NewSREsMtHqcF",
      "include_colab_link": true
    },
    "kernelspec": {
      "name": "python3",
      "display_name": "Python 3"
    },
    "language_info": {
      "name": "python"
    }
  },
  "cells": [
    {
      "cell_type": "markdown",
      "metadata": {
        "id": "view-in-github",
        "colab_type": "text"
      },
      "source": [
        "<a href=\"https://colab.research.google.com/github/aliharris10/test_repo/blob/main/practice_loop.ipynb\" target=\"_parent\"><img src=\"https://colab.research.google.com/assets/colab-badge.svg\" alt=\"Open In Colab\"/></a>"
      ]
    },
    {
      "cell_type": "code",
      "source": [
        "i = 1\n",
        "while(i <= 10):\n",
        "  print(\"Hello {}\".format(i))\n",
        "  i = i + 1\n"
      ],
      "metadata": {
        "colab": {
          "base_uri": "https://localhost:8080/"
        },
        "id": "n3ibBkQYQtkZ",
        "outputId": "ba36afa1-764a-4fdd-bee0-1873f35c045f"
      },
      "execution_count": 21,
      "outputs": [
        {
          "output_type": "stream",
          "name": "stdout",
          "text": [
            "Hello 1\n",
            "Hello 2\n",
            "Hello 3\n",
            "Hello 4\n",
            "Hello 5\n",
            "Hello 6\n",
            "Hello 7\n",
            "Hello 8\n",
            "Hello 9\n",
            "Hello 10\n"
          ]
        }
      ]
    },
    {
      "cell_type": "code",
      "source": [
        "#program to input a number from user and then calculate the factorial\n",
        "\n",
        "x = int(input(\"Enter the number to check the factorial: \"))\n",
        "y = 1\n",
        "fac = 1\n",
        "\n",
        "while(y <= x):\n",
        "  fac = fac * y\n",
        "  y = y + 1\n",
        "\n",
        "\n",
        "print(\"The factorial of {} is {}\".format(x, fac))\n"
      ],
      "metadata": {
        "colab": {
          "base_uri": "https://localhost:8080/"
        },
        "id": "2JGPAMjhRWJj",
        "outputId": "fdb30fbc-9df0-4bed-8761-d1cc3c5cdf21"
      },
      "execution_count": 26,
      "outputs": [
        {
          "output_type": "stream",
          "name": "stdout",
          "text": [
            "Enter the number to check the factorial: 6\n",
            "The factorial of 6 is 720\n"
          ]
        }
      ]
    },
    {
      "cell_type": "code",
      "source": [
        "cars = [\"Toyota\", \"Honda\", \"Suzuki\",\"KIA\", \"Lexus\", \"Hyundai\"]\n",
        "\n",
        "for c in cars:\n",
        "  print(c)"
      ],
      "metadata": {
        "colab": {
          "base_uri": "https://localhost:8080/"
        },
        "id": "bzucpWcATg92",
        "outputId": "c4018106-7aba-4ff6-da50-380d94645c24"
      },
      "execution_count": 34,
      "outputs": [
        {
          "output_type": "stream",
          "name": "stdout",
          "text": [
            "Toyota\n",
            "Honda\n",
            "Suzuki\n",
            "KIA\n",
            "Lexus\n",
            "Hyundai\n"
          ]
        }
      ]
    },
    {
      "cell_type": "code",
      "source": [
        "dic1 = {\n",
        "    'Name': 'Ali',\n",
        "    'Age': 22,\n",
        "    'Gender': 'Male',\n",
        "    'Height': 130\n",
        "}\n",
        "\n",
        "for k in dic1.keys():\n",
        "  print(k)\n",
        "\n",
        "for v in dic1.values():\n",
        "  print(v)  \n",
        "\n",
        "for ke,va in dic1.items():\n",
        "  print(\"Key: {} Value: {}\".format(ke,va))"
      ],
      "metadata": {
        "colab": {
          "base_uri": "https://localhost:8080/"
        },
        "id": "Rml0TMUUUkzC",
        "outputId": "df14cc1b-db20-4eb3-89bd-2c3b709bdbfc"
      },
      "execution_count": 38,
      "outputs": [
        {
          "output_type": "stream",
          "name": "stdout",
          "text": [
            "Name\n",
            "Age\n",
            "Gender\n",
            "Height\n",
            "Ali\n",
            "22\n",
            "Male\n",
            "130\n",
            "Key: Name Value: Ali\n",
            "Key: Age Value: 22\n",
            "Key: Gender Value: Male\n",
            "Key: Height Value: 130\n"
          ]
        }
      ]
    },
    {
      "cell_type": "code",
      "source": [
        "print(list(range(0,8)))\n",
        "print(list(range(2,4)))\n",
        "print(list(range(10,1,-2)))\n"
      ],
      "metadata": {
        "colab": {
          "base_uri": "https://localhost:8080/"
        },
        "id": "bA4OpVNbVdWc",
        "outputId": "187a88e4-3001-475e-d7a2-f269951958ce"
      },
      "execution_count": 45,
      "outputs": [
        {
          "output_type": "stream",
          "name": "stdout",
          "text": [
            "[0, 1, 2, 3, 4, 5, 6, 7]\n",
            "[2, 3]\n",
            "[10, 8, 6, 4, 2]\n"
          ]
        }
      ]
    },
    {
      "cell_type": "code",
      "source": [
        "for i in cars:\n",
        "  if i == 'Suzuki':\n",
        "    pass\n",
        "  else:\n",
        "    print(i)"
      ],
      "metadata": {
        "colab": {
          "base_uri": "https://localhost:8080/"
        },
        "id": "yIjejYw5WG9a",
        "outputId": "e57c6f61-aad1-4603-f731-8c539fd5acd7"
      },
      "execution_count": 50,
      "outputs": [
        {
          "output_type": "stream",
          "name": "stdout",
          "text": [
            "Toyota\n",
            "Honda\n",
            "KIA\n",
            "Lexus\n",
            "Hyundai\n"
          ]
        }
      ]
    }
  ]
}