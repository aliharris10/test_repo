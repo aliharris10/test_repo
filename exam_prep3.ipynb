{
 "cells": [
  {
   "cell_type": "code",
   "execution_count": null,
   "id": "f7877855",
   "metadata": {},
   "outputs": [],
   "source": [
    "from plot_helper import *"
   ]
  },
  {
   "cell_type": "code",
   "execution_count": null,
   "id": "87772ff2",
   "metadata": {},
   "outputs": [],
   "source": [
    "!pip install plot-helper"
   ]
  },
  {
   "cell_type": "code",
   "execution_count": null,
   "id": "6420265a",
   "metadata": {},
   "outputs": [],
   "source": [
    "dir(plot_helper)"
   ]
  },
  {
   "cell_type": "code",
   "execution_count": null,
   "id": "3dcc8d93",
   "metadata": {},
   "outputs": [],
   "source": [
    "from plot_helper import plot_vector\n"
   ]
  },
  {
   "cell_type": "code",
   "execution_count": 1,
   "id": "92f2cc73",
   "metadata": {},
   "outputs": [],
   "source": [
    "import numpy as np"
   ]
  },
  {
   "cell_type": "code",
   "execution_count": 5,
   "id": "d9631b9e",
   "metadata": {},
   "outputs": [
    {
     "name": "stdout",
     "output_type": "stream",
     "text": [
      "[[-2]\n",
      " [ 1]\n",
      " [ 3]]\n",
      "2\n",
      "(3, 1)\n",
      "[[-2  1  3]]\n"
     ]
    }
   ],
   "source": [
    "a = np.array([[-2], [1], [3]])\n",
    "print(a)\n",
    "print(a.ndim)\n",
    "print(a.shape)\n",
    "print(a.T)"
   ]
  },
  {
   "cell_type": "code",
   "execution_count": 8,
   "id": "4b7d3052",
   "metadata": {},
   "outputs": [
    {
     "name": "stdout",
     "output_type": "stream",
     "text": [
      "[[0. 0. 0. 0.]\n",
      " [0. 0. 0. 0.]\n",
      " [0. 0. 0. 0.]]\n"
     ]
    }
   ],
   "source": [
    "z = np.zeros((3,4))\n",
    "print(z)"
   ]
  },
  {
   "cell_type": "code",
   "execution_count": 10,
   "id": "273f2c05",
   "metadata": {},
   "outputs": [
    {
     "name": "stdout",
     "output_type": "stream",
     "text": [
      "[[1. 1. 1. 1. 1. 1.]\n",
      " [1. 1. 1. 1. 1. 1.]\n",
      " [1. 1. 1. 1. 1. 1.]\n",
      " [1. 1. 1. 1. 1. 1.]\n",
      " [1. 1. 1. 1. 1. 1.]]\n"
     ]
    }
   ],
   "source": [
    "o = np.ones((5,6))\n",
    "print(o)"
   ]
  },
  {
   "cell_type": "code",
   "execution_count": 12,
   "id": "080a4e4d",
   "metadata": {},
   "outputs": [
    {
     "name": "stdout",
     "output_type": "stream",
     "text": [
      "Original Matrix A:  [[6 3 8 5]\n",
      " [2 1 9 7]\n",
      " [8 2 4 7]\n",
      " [3 1 5 8]]\n",
      "Upper Triangle of A: \n",
      " [[6 3 8 5]\n",
      " [0 1 9 7]\n",
      " [0 0 4 7]\n",
      " [0 0 0 8]]\n",
      "Lower Triangle of A: \n",
      " [[6 0 0 0]\n",
      " [2 1 0 0]\n",
      " [8 2 4 0]\n",
      " [3 1 5 8]]\n"
     ]
    }
   ],
   "source": [
    "A = np.array([[6, 3, 8, 5], [2, 1, 9, 7], [8, 2, 4, 7], [3, 1, 5, 8]])\n",
    "\n",
    "print(\"Original Matrix A: \", A)\n",
    "\n",
    "print(\"Upper Triangle of A: \\n\", np.triu(A))\n",
    "print(\"Lower Triangle of A: \\n\", np.tril(A))\n"
   ]
  },
  {
   "cell_type": "code",
   "execution_count": 15,
   "id": "1ea1852b",
   "metadata": {},
   "outputs": [
    {
     "name": "stdout",
     "output_type": "stream",
     "text": [
      "[[2 4 4 2]\n",
      " [4 3 0 3]\n",
      " [3 3 1 3]]\n"
     ]
    }
   ],
   "source": [
    "m = np.random.randint(0,5, size = (3,4))\n",
    "print(m)"
   ]
  },
  {
   "cell_type": "code",
   "execution_count": 16,
   "id": "0c96ae45",
   "metadata": {},
   "outputs": [
    {
     "name": "stdout",
     "output_type": "stream",
     "text": [
      "[[10 20 20 10]\n",
      " [20 15  0 15]\n",
      " [15 15  5 15]]\n"
     ]
    }
   ],
   "source": [
    "print(5*m)"
   ]
  },
  {
   "cell_type": "code",
   "execution_count": 18,
   "id": "cdd19d45",
   "metadata": {},
   "outputs": [
    {
     "name": "stdout",
     "output_type": "stream",
     "text": [
      "Matrix A = \n",
      " [[0 2 1]\n",
      " [2 0 0]]\n",
      "3.0\n"
     ]
    }
   ],
   "source": [
    "A = np.array([ [0, 2, 1],[2, 0, 0]])\n",
    "print(\"Matrix A = \\n\", A)\n",
    "\n",
    "f = np.linalg.norm(A, ord = None)\n",
    "print(f)"
   ]
  },
  {
   "cell_type": "code",
   "execution_count": 21,
   "id": "f8b8f6e3",
   "metadata": {},
   "outputs": [
    {
     "data": {
      "text/plain": [
       "array([[0, 2],\n",
       "       [2, 0],\n",
       "       [1, 0]])"
      ]
     },
     "execution_count": 21,
     "metadata": {},
     "output_type": "execute_result"
    }
   ],
   "source": [
    "#np.transpose(A)\n",
    "A.T"
   ]
  },
  {
   "cell_type": "code",
   "execution_count": 25,
   "id": "d3139a76",
   "metadata": {},
   "outputs": [
    {
     "data": {
      "text/plain": [
       "19.999999999999996"
      ]
     },
     "execution_count": 25,
     "metadata": {},
     "output_type": "execute_result"
    }
   ],
   "source": [
    "C = np.array([[2, 1, 2],[1, 0, 1],[4, 1, 4]])\n",
    "B = np.array([[1, 2, 4],[2, -1, 3],[0, 5, 1]])\n",
    "\n",
    "np.linalg.det(C)\n",
    "np.linalg.det(B)"
   ]
  },
  {
   "cell_type": "code",
   "execution_count": 31,
   "id": "d601b56a",
   "metadata": {},
   "outputs": [
    {
     "name": "stdout",
     "output_type": "stream",
     "text": [
      "Matrix B is: \n",
      " [[ 1  2  4]\n",
      " [ 2 -1  3]\n",
      " [ 0  5  1]]\n",
      "Deteminent of B is: \n",
      " 19.999999999999996\n",
      "Inverse of B is: \n",
      " [[-0.8   0.9   0.5 ]\n",
      " [-0.1   0.05  0.25]\n",
      " [ 0.5  -0.25 -0.25]]\n",
      "Trace Value of B is:  1\n"
     ]
    }
   ],
   "source": [
    "print(\"Matrix B is: \\n\", B)\n",
    "print(\"Deteminent of B is: \\n\", np.linalg.det(B))\n",
    "print(\"Inverse of B is: \\n\", np.linalg.inv(B))\n",
    "print(\"Trace Value of B is: \", np.trace(B))"
   ]
  },
  {
   "cell_type": "code",
   "execution_count": 34,
   "id": "286d0c42",
   "metadata": {},
   "outputs": [],
   "source": [
    "import matplotlib \n",
    "from matplotlib import pyplot as plt"
   ]
  },
  {
   "cell_type": "code",
   "execution_count": 37,
   "id": "59c71eb7",
   "metadata": {},
   "outputs": [
    {
     "data": {
      "text/plain": [
       "[<matplotlib.lines.Line2D at 0x1eaff505580>]"
      ]
     },
     "execution_count": 37,
     "metadata": {},
     "output_type": "execute_result"
    },
    {
     "data": {
      "image/png": "[encoded data removed]",
      "text/plain": [
       "<Figure size 432x288 with 1 Axes>"
      ]
     },
     "metadata": {
      "needs_background": "light"
     },
     "output_type": "display_data"
    }
   ],
   "source": [
    "x = np.array([0, 12])\n",
    "y = 5 + 2 * x\n",
    "\n",
    "fig, ax = plt.subplots()\n",
    "plt.xlabel(\"x\")\n",
    "plt.ylabel(\"y\")\n",
    "ax.set_xlim([0,12])\n",
    "ax.set_ylim([1,30])\n",
    "\n",
    "ax.plot(x,y)"
   ]
  },
  {
   "cell_type": "code",
   "execution_count": 38,
   "id": "daecd76e",
   "metadata": {},
   "outputs": [
    {
     "data": {
      "text/plain": [
       "[<matplotlib.lines.Line2D at 0x1ea98fdddf0>]"
      ]
     },
     "execution_count": 38,
     "metadata": {},
     "output_type": "execute_result"
    },
    {
     "data": {
      "image/png": "[encoded data removed]",
      "text/plain": [
       "<Figure size 432x288 with 1 Axes>"
      ]
     },
     "metadata": {
      "needs_background": "light"
     },
     "output_type": "display_data"
    }
   ],
   "source": [
    "x = np.linspace(0, 10, 5)\n",
    "y = 10 - 1.5 * x\n",
    "\n",
    "fig, ax = plt.subplots()\n",
    "ax.set_xlim(0, 10)\n",
    "ax.set_ylim(-5, 15)\n",
    "plt.xlabel(\"drug dosage\")\n",
    "plt.ylabel(\"forgetness level\")\n",
    "ax.plot(x, y)"
   ]
  },
  {
   "cell_type": "code",
   "execution_count": 39,
   "id": "ad7ea925",
   "metadata": {},
   "outputs": [
    {
     "data": {
      "text/plain": [
       "[<matplotlib.lines.Line2D at 0x1ea98c5eb50>]"
      ]
     },
     "execution_count": 39,
     "metadata": {},
     "output_type": "execute_result"
    },
    {
     "data": {
      "image/png": "[encoded data removed]",
      "text/plain": [
       "<Figure size 432x288 with 1 Axes>"
      ]
     },
     "metadata": {
      "needs_background": "light"
     },
     "output_type": "display_data"
    }
   ],
   "source": [
    "x = np.linspace(-10, 10, 100)\n",
    "y1 = 1 + 2 * x\n",
    "y2 = 3 - 0.5 * x\n",
    "\n",
    "fig, ax = plt.subplots()\n",
    "plt.xlabel('x values')\n",
    "plt.ylabel('y values')\n",
    "ax.set_xlim(-2, 5)\n",
    "ax.set_ylim(-1, 5)\n",
    "ax.plot(x, y1, color = 'Red')\n",
    "ax.plot(x, y2, color = 'Green')\n"
   ]
  },
  {
   "cell_type": "code",
   "execution_count": 41,
   "id": "03ad88f4",
   "metadata": {},
   "outputs": [
    {
     "data": {
      "text/plain": [
       "array([ 0.66666667, -0.66666667])"
      ]
     },
     "execution_count": 41,
     "metadata": {},
     "output_type": "execute_result"
    }
   ],
   "source": [
    "A = np.array([[1, -1/2], [-1/2, 1]])\n",
    "b = np.array([1,-1])\n",
    "Ainv = np.linalg.inv(A)\n",
    "#x = np.dot(Ainv, b)\n",
    "x = np.linalg.solve(A, b)\n",
    "x"
   ]
  },
  {
   "cell_type": "code",
   "execution_count": 43,
   "id": "05ab4460",
   "metadata": {},
   "outputs": [
    {
     "data": {
      "text/plain": [
       "array([-1.,  3., -4.])"
      ]
     },
     "execution_count": 43,
     "metadata": {},
     "output_type": "execute_result"
    }
   ],
   "source": [
    "A = np.array([[1, 2, 3], [2, -3, -5], [-6, -8, 1]])\n",
    "b = np.array([-7, 9, -22])\n",
    "Ainv = np.linalg.inv(A)\n",
    "x = np.dot(Ainv, b)\n",
    "x"
   ]
  },
  {
   "cell_type": "code",
   "execution_count": 44,
   "id": "190b60ee",
   "metadata": {},
   "outputs": [
    {
     "name": "stdout",
     "output_type": "stream",
     "text": [
      "Slope:  0.4642857142857143\n",
      "intercept:  0.8999999999999999\n"
     ]
    }
   ],
   "source": [
    "x = np.array([1,2,3,4,5,6,7])\n",
    "y = np.array([1.4, 1.6, 2.5, 2.6, 3.5, 3.7, 4.0])\n",
    "n = 7\n",
    "\n",
    "xbar = sum(x)/n\n",
    "ybar = sum(y)/n\n",
    "\n",
    "beta1 = (sum((x - xbar)*(y - ybar))) / (sum((x - xbar)**2))\n",
    "beta0 = ybar - beta1*xbar\n",
    "\n",
    "print(\"Slope: \", beta1)\n",
    "print(\"intercept: \", beta0)"
   ]
  },
  {
   "cell_type": "code",
   "execution_count": 48,
   "id": "481f817c",
   "metadata": {},
   "outputs": [
    {
     "data": {
      "text/plain": [
       "[<matplotlib.lines.Line2D at 0x1ea98dd4850>]"
      ]
     },
     "execution_count": 48,
     "metadata": {},
     "output_type": "execute_result"
    },
    {
     "data": {
      "image/png": "[encoded data removed]",
      "text/plain": [
       "<Figure size 432x288 with 1 Axes>"
      ]
     },
     "metadata": {
      "needs_background": "light"
     },
     "output_type": "display_data"
    }
   ],
   "source": [
    "fig, ax = plt.subplots()\n",
    "plt.grid(True)\n",
    "plt.title(\"study Hours vs. CGPA\")\n",
    "plt.xlabel(\"Study Hours\")\n",
    "plt.ylabel(\"CGPA\")\n",
    "\n",
    "ax.scatter(x, y)\n",
    "\n",
    "x2 = np.linspace(0,8,10)\n",
    "y2 = 0.9 + 0.464 * x2\n",
    "ax.plot(x2, y2, color = \"green\")"
   ]
  },
  {
   "cell_type": "code",
   "execution_count": 49,
   "id": "ead0d75b",
   "metadata": {},
   "outputs": [],
   "source": [
    "import scipy.stats"
   ]
  },
  {
   "cell_type": "code",
   "execution_count": 50,
   "id": "a6e32801",
   "metadata": {},
   "outputs": [
    {
     "name": "stdout",
     "output_type": "stream",
     "text": [
      "Slope:  0.4\n",
      "Intercept:  0.8\n"
     ]
    }
   ],
   "source": [
    "x = np.array([-1, 0, 1, 2])\n",
    "y = np.array([0, 1, 2, 1])\n",
    "res = scipy.stats.linregress(x, y)\n",
    "b1 = res.slope\n",
    "b0 = res.intercept\n",
    "\n",
    "print(\"Slope: \", b1)\n",
    "print(\"Intercept: \", b0)"
   ]
  },
  {
   "cell_type": "code",
   "execution_count": 54,
   "id": "316deef8",
   "metadata": {},
   "outputs": [
    {
     "name": "stdout",
     "output_type": "stream",
     "text": [
      "R2 Score:  0.4000000000000001\n"
     ]
    }
   ],
   "source": [
    "yhat = b0 + b1*x\n",
    "\n",
    "sse = sum((yhat - y) ** 2)\n",
    "ssr = sum((yhat - np.mean(y)) ** 2)\n",
    "sst = ssr + sse\n",
    "r2 = ssr/sst\n",
    "print(\"R2 Score: \", r2)"
   ]
  },
  {
   "cell_type": "code",
   "execution_count": 55,
   "id": "c75da5b2",
   "metadata": {},
   "outputs": [
    {
     "name": "stdout",
     "output_type": "stream",
     "text": [
      "X labels:  [[1. 4.]\n",
      " [2. 1.]\n",
      " [3. 3.]\n",
      " [4. 4.]\n",
      " [5. 3.]\n",
      " [6. 1.]\n",
      " [7. 2.]]\n",
      "Y labesl:  [2.4 2.2 2.9 3.8 3.  2.  3. ]\n"
     ]
    }
   ],
   "source": [
    "sh = np.array([1,     2,    3,    4,    5,    6,    7.])              \n",
    "sk = np.array([4, 1,    3,    4,    3,    1,    2])             \n",
    "gp = np.array([2.4,  2.2,  2.9,  3.8,  3.0,  2.0,  3.0])\n",
    "\n",
    "X = np.array(list(zip(sh,sk)))\n",
    "y = gp\n",
    "\n",
    "print(\"X labels: \", X)\n",
    "print(\"Y labesl: \", y)"
   ]
  },
  {
   "cell_type": "code",
   "execution_count": 57,
   "id": "1d255b8e",
   "metadata": {},
   "outputs": [
    {
     "name": "stdout",
     "output_type": "stream",
     "text": [
      "intercept:  1.1627118644067806\n",
      "Coefficient of Study Hours:  0.13983050847457615\n",
      "Coefficient of Skill of Instructor:  0.4025423728813557\n",
      "R2 Score:  0.6464164339675734\n"
     ]
    }
   ],
   "source": [
    "from sklearn.linear_model import LinearRegression\n",
    "\n",
    "model = LinearRegression()\n",
    "model.fit(X, y)\n",
    "intercept = model.intercept_\n",
    "sh_cf = model.coef_[0]\n",
    "sk_cf = model.coef_[1]\n",
    "\n",
    "r2 = model.score(X,y)\n",
    "\n",
    "print(\"intercept: \", intercept)\n",
    "print(\"Coefficient of Study Hours: \", sh_cf)\n",
    "print(\"Coefficient of Skill of Instructor: \", sk_cf)\n",
    "print(\"R2 Score: \", r2)\n"
   ]
  },
  {
   "cell_type": "code",
   "execution_count": 62,
   "id": "e8a000cd",
   "metadata": {},
   "outputs": [
    {
     "name": "stdout",
     "output_type": "stream",
     "text": [
      "New CGPA:  2.1076271186440683\n",
      "New CGPA:  [2.10762712 3.59491525 3.36610169]\n"
     ]
    }
   ],
   "source": [
    "gpa = intercept + sh_cf*1 + sk_cf*2\n",
    "gpa2 = model.predict([[1,2], [3,5], [10,2]])\n",
    "print(\"New CGPA: \", gpa)\n",
    "print(\"New CGPA: \", gpa2)\n"
   ]
  }
 ],
 "metadata": {
  "kernelspec": {
   "display_name": "Python 3 (ipykernel)",
   "language": "python",
   "name": "python3"
  },
  "language_info": {
   "codemirror_mode": {
    "name": "ipython",
    "version": 3
   },
   "file_extension": ".py",
   "mimetype": "text/x-python",
   "name": "python",
   "nbconvert_exporter": "python",
   "pygments_lexer": "ipython3",
   "version": "3.8.11"
  }
 },
 "nbformat": 4,
 "nbformat_minor": 5
}
