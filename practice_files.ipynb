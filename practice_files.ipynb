{
 "cells": [
  {
   "cell_type": "code",
   "execution_count": 4,
   "id": "b45c6d93",
   "metadata": {},
   "outputs": [],
   "source": [
    "fd = open(\"hello.txt\", \"rt+\")\n",
    "fd.read()\n",
    "\n",
    "fd.close()"
   ]
  },
  {
   "cell_type": "code",
   "execution_count": 5,
   "id": "b05a74db",
   "metadata": {
    "scrolled": true
   },
   "outputs": [
    {
     "name": "stdout",
     "output_type": "stream",
     "text": [
      "This is a sample file\n",
      "\n"
     ]
    }
   ],
   "source": [
    "fd = open(\"hello.txt\", \"rt\")\n",
    "\n",
    "print(fd.readline())"
   ]
  },
  {
   "cell_type": "code",
   "execution_count": 17,
   "id": "d325c83c",
   "metadata": {
    "scrolled": true
   },
   "outputs": [
    {
     "name": "stdout",
     "output_type": "stream",
     "text": [
      "This is a sample file\n",
      "\n",
      "It has some data in it\n"
     ]
    }
   ],
   "source": [
    "fd = open(\"hello.txt\", \"rt\")\n",
    "\n",
    "print(fd.readline()) #prints one line\n",
    "print(fd.readline())\n",
    "\n"
   ]
  },
  {
   "cell_type": "code",
   "execution_count": 20,
   "id": "518cdec2",
   "metadata": {
    "scrolled": true
   },
   "outputs": [
    {
     "name": "stdout",
     "output_type": "stream",
     "text": [
      "['This is a sample file\\n', 'It has some data in it']\n"
     ]
    }
   ],
   "source": [
    "fd = open(\"hello.txt\", \"rt\")\n",
    "\n",
    "rv = fd.readlines() #prints list of all the lines\n",
    "\n",
    "print(rv)"
   ]
  },
  {
   "cell_type": "code",
   "execution_count": 32,
   "id": "21bea9fa",
   "metadata": {},
   "outputs": [],
   "source": [
    "newfile = open(\"newHello.txt\", \"w\") #create file in write mode\n",
    "rv = newfile.write(\"this is a newly created file\")\n",
    "\n",
    "newfile.close()"
   ]
  },
  {
   "cell_type": "code",
   "execution_count": 24,
   "id": "35a597ba",
   "metadata": {
    "scrolled": true
   },
   "outputs": [
    {
     "name": "stdout",
     "output_type": "stream",
     "text": [
      "['this is a newly created file']\n"
     ]
    }
   ],
   "source": [
    "new2 = open(\"newHello.txt\", \"rt\") #read the newly created file\n",
    " \n",
    "lr = new2.readlines()\n",
    "print(lr)"
   ]
  },
  {
   "cell_type": "code",
   "execution_count": 33,
   "id": "0ed7a47d",
   "metadata": {},
   "outputs": [
    {
     "name": "stdout",
     "output_type": "stream",
     "text": [
      "The current file content:  this is a newly created file\n"
     ]
    }
   ],
   "source": [
    "fd = open(\"newHello.txt\", \"r+\")\n",
    "\n",
    "print(\"The current file content: \", fd.read())"
   ]
  }
 ],
 "metadata": {
  "kernelspec": {
   "display_name": "Python 3 (ipykernel)",
   "language": "python",
   "name": "python3"
  },
  "language_info": {
   "codemirror_mode": {
    "name": "ipython",
    "version": 3
   },
   "file_extension": ".py",
   "mimetype": "text/x-python",
   "name": "python",
   "nbconvert_exporter": "python",
   "pygments_lexer": "ipython3",
   "version": "3.8.11"
  }
 },
 "nbformat": 4,
 "nbformat_minor": 5
}
