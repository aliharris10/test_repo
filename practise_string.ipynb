{
  "cells": [
    {
      "cell_type": "markdown",
      "source": [
        "This is a sample file to test Strings in Python"
      ],
      "metadata": {
        "id": "SVSv0LfU9r_w"
      }
    },
    {
      "cell_type": "code",
      "source": [
        "st = \"this is string\"\n",
        "ds = \"data science\"\n",
        "mls = \"\"\"this is \n",
        "    a multiline string\"\"\"\n",
        "\n",
        "print(st)\n",
        "print(mls)"
      ],
      "metadata": {
        "colab": {
          "base_uri": "https://localhost:8080/"
        },
        "id": "hOVDvOEp9rmV",
        "outputId": "1389999e-4b7b-469a-faa1-be463ca7ae87"
      },
      "execution_count": 2,
      "outputs": [
        {
          "output_type": "stream",
          "name": "stdout",
          "text": [
            "this is string\n",
            "this is \n",
            "    a multiline string\n"
          ]
        }
      ]
    },
    {
      "cell_type": "code",
      "source": [
        "print(ds[-2])\n",
        "print(st[6])"
      ],
      "metadata": {
        "colab": {
          "base_uri": "https://localhost:8080/"
        },
        "id": "Tz3KZBXa-lzB",
        "outputId": "37dc43df-29d7-4aca-c018-0f4653f3ccb5"
      },
      "execution_count": 5,
      "outputs": [
        {
          "output_type": "stream",
          "name": "stdout",
          "text": [
            "c\n",
            "s\n"
          ]
        }
      ]
    },
    {
      "cell_type": "code",
      "source": [
        "st1 = \"learning the course of data science\"\n",
        "print(st1)\n",
        "\n",
        "print(st1[0:7])\n",
        "print(st1[15:31])\n",
        "\n",
        "print(st1.upper())\n",
        "print(st1.capitalize())\n",
        "len(st1)\n",
        "ts = st1.split(' ')\n",
        "print(ts)"
      ],
      "metadata": {
        "colab": {
          "base_uri": "https://localhost:8080/"
        },
        "id": "dOyIvFmxEPqB",
        "outputId": "8cb325c6-4257-4a2b-8e10-05e880c024f1"
      },
      "execution_count": 20,
      "outputs": [
        {
          "output_type": "stream",
          "name": "stdout",
          "text": [
            "learning the course of data science\n",
            "learnin\n",
            "urse of data sci\n",
            "LEARNING THE COURSE OF DATA SCIENCE\n",
            "Learning the course of data science\n",
            "['learning', 'the', 'course', 'of', 'data', 'science']\n"
          ]
        }
      ]
    },
    {
      "cell_type": "code",
      "source": [
        "a = \"help\"\n",
        "b = \"help\"\n",
        "\n",
        "id(a), id(b)\n",
        "\n",
        "print(a is b)\n",
        "print(a == b)\n",
        "\n",
        "print(a is not b)"
      ],
      "metadata": {
        "colab": {
          "base_uri": "https://localhost:8080/"
        },
        "id": "spFBut8kGozx",
        "outputId": "77ae2f78-aed6-4e4a-f00f-be5f0c2e9eea"
      },
      "execution_count": 24,
      "outputs": [
        {
          "output_type": "stream",
          "name": "stdout",
          "text": [
            "True\n",
            "True\n",
            "False\n"
          ]
        }
      ]
    }
  ],
  "metadata": {
    "colab": {
      "provenance": []
    },
    "kernelspec": {
      "display_name": "Python 3",
      "name": "python3"
    },
    "language_info": {
      "name": "python"
    }
  },
  "nbformat": 4,
  "nbformat_minor": 0
}