{
  "nbformat": 4,
  "nbformat_minor": 0,
  "metadata": {
    "colab": {
      "provenance": []
    },
    "kernelspec": {
      "name": "python3",
      "display_name": "Python 3"
    },
    "language_info": {
      "name": "python"
    }
  },
  "cells": [
    {
      "cell_type": "code",
      "execution_count": 15,
      "metadata": {
        "colab": {
          "base_uri": "https://localhost:8080/"
        },
        "id": "S_ItuD6FHrih",
        "outputId": "72b0ec87-f3b6-4d10-ed61-a342653bb668"
      },
      "outputs": [
        {
          "output_type": "stream",
          "name": "stdout",
          "text": [
            "<class 'list'>\n",
            "A is: 1 and B is: 2 \n",
            "[1, 2, 3, 4, 5, 6]\n",
            "[5, 4, 3, 2, 1]\n"
          ]
        }
      ],
      "source": [
        "l1 = [1,2,3,4,5,6]\n",
        "a, b, c, d, e, f = l1\n",
        "\n",
        "\n",
        "print(type(l1))\n",
        "print(\"A is: {} and B is: {} \".format(a, b))\n",
        "print(l1[:])\n",
        "print(l1[4::-1])"
      ]
    },
    {
      "cell_type": "code",
      "source": [
        "stds = [\"ali\", \"saim\", \"furqan\", \"muzammil\", \"zain\", \"jasim\"]\n",
        "\n",
        "print(stds[:4])\n",
        "#stds.sort() #to sort a list\n",
        "\n",
        "stds.append(\"nabeel\")\n",
        "stds\n",
        "\n",
        "stds[1] = \"rohail\" #replacing saim\n",
        "stds\n",
        "\n",
        "print(stds.pop())\n",
        "stds"
      ],
      "metadata": {
        "colab": {
          "base_uri": "https://localhost:8080/"
        },
        "id": "1I8NgbvwI-g8",
        "outputId": "01ae1e9f-04c1-47d2-98a9-557795938c6a"
      },
      "execution_count": 29,
      "outputs": [
        {
          "output_type": "stream",
          "name": "stdout",
          "text": [
            "['ali', 'saim', 'furqan', 'muzammil']\n",
            "nabeel\n"
          ]
        },
        {
          "output_type": "execute_result",
          "data": {
            "text/plain": [
              "['ali', 'rohail', 'furqan', 'muzammil', 'zain', 'jasim']"
            ]
          },
          "metadata": {},
          "execution_count": 29
        }
      ]
    },
    {
      "cell_type": "code",
      "source": [
        "print(stds)"
      ],
      "metadata": {
        "colab": {
          "base_uri": "https://localhost:8080/"
        },
        "id": "C2Eq3WOoKWIQ",
        "outputId": "c217b0a6-585b-4b0e-e3f9-bb7adda17860"
      },
      "execution_count": 30,
      "outputs": [
        {
          "output_type": "stream",
          "name": "stdout",
          "text": [
            "['ali', 'rohail', 'furqan', 'muzammil', 'zain', 'jasim']\n"
          ]
        }
      ]
    },
    {
      "cell_type": "code",
      "source": [
        "stds.remove(\"furqan\")"
      ],
      "metadata": {
        "id": "xZrJfs_ZKWzP"
      },
      "execution_count": 31,
      "outputs": []
    },
    {
      "cell_type": "code",
      "source": [
        "#shallow copy and deep copy\n",
        "\n",
        "list1 = [4,5,6]\n",
        "list2 = list1\n",
        "\n",
        "id(list1), id(list2)\n",
        "\n",
        "list1[1] = 6\n",
        "\n",
        "print(list2)\n",
        "\n"
      ],
      "metadata": {
        "colab": {
          "base_uri": "https://localhost:8080/"
        },
        "id": "2gDfsdbIK6yZ",
        "outputId": "a04d90e6-f86a-4771-e256-79f2ffd35687"
      },
      "execution_count": 35,
      "outputs": [
        {
          "output_type": "stream",
          "name": "stdout",
          "text": [
            "[4, 6, 6]\n"
          ]
        }
      ]
    },
    {
      "cell_type": "code",
      "source": [
        "mylist1 = [3,4,5,6]\n",
        "mylist2 = mylist1[:]\n",
        "\n",
        "mylist1[2] = 78\n",
        "\n",
        "print(mylist1)\n",
        "print(mylist2)"
      ],
      "metadata": {
        "colab": {
          "base_uri": "https://localhost:8080/"
        },
        "id": "6jXSKqbkLPq_",
        "outputId": "bfa91b45-e1ba-4213-9025-e364fcb7a58f"
      },
      "execution_count": 42,
      "outputs": [
        {
          "output_type": "stream",
          "name": "stdout",
          "text": [
            "[3, 4, 78, 6]\n",
            "[3, 4, 5, 6]\n"
          ]
        }
      ]
    },
    {
      "cell_type": "code",
      "source": [
        "mylist1.sort()\n",
        "mylist1\n"
      ],
      "metadata": {
        "colab": {
          "base_uri": "https://localhost:8080/"
        },
        "id": "jcyMlacFLXVw",
        "outputId": "42cf36aa-be9c-4a6b-b6a2-ae1345110631"
      },
      "execution_count": 45,
      "outputs": [
        {
          "output_type": "execute_result",
          "data": {
            "text/plain": [
              "[3, 4, 6, 78]"
            ]
          },
          "metadata": {},
          "execution_count": 45
        }
      ]
    }
  ]
}