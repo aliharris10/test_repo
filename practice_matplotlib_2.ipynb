{
 "cells": [
  {
   "cell_type": "code",
   "execution_count": 1,
   "id": "3b8d273b",
   "metadata": {},
   "outputs": [],
   "source": [
    "import matplotlib\n",
    "from matplotlib import pyplot as plt"
   ]
  },
  {
   "cell_type": "code",
   "execution_count": 2,
   "id": "a9b6786b",
   "metadata": {},
   "outputs": [],
   "source": [
    "import pandas as pd\n",
    "languages = ['HTML/CSS','C','C++','C#','Python',\n",
    " 'SQL','Java','R','Bash/Shell/PowerShell','JavaScript','Ruby','Rust',\n",
    " 'TypeScript','WebAssembly','Other(s):','PHP','VBA','Swift','Kotlin',\n",
    "'Objective-C','Go','Erlang','Assembly','Scala','Elixir','Dart','Clojure','F#']\n",
    "\n",
    "popularity = [32242,7885,9569, 16606, 20013, 28946,\n",
    " 19216, 2757, 19802, 35773,4685, 1440, 12532, 512,\n",
    " 4469, 12619, 2646, 3382,3335, 2572, 4560, 455,\n",
    " 2136, 2162, 808, 890,744, 591]"
   ]
  },
  {
   "cell_type": "code",
   "execution_count": 5,
   "id": "64e96ece",
   "metadata": {},
   "outputs": [],
   "source": [
    "lang = pd.Series(languages)\n",
    "popu = pd.Series(popularity)\n",
    "\n",
    "df = pd.DataFrame()\n",
    "df['Languages'] = lang\n",
    "df['Popularity'] = popu\n",
    "\n"
   ]
  },
  {
   "cell_type": "code",
   "execution_count": 6,
   "id": "fd2a0388",
   "metadata": {},
   "outputs": [],
   "source": [
    "df.sort_values('Popularity', ascending = False, inplace = True)"
   ]
  },
  {
   "cell_type": "code",
   "execution_count": null,
   "id": "20327f54",
   "metadata": {},
   "outputs": [],
   "source": []
  }
 ],
 "metadata": {
  "kernelspec": {
   "display_name": "Python 3 (ipykernel)",
   "language": "python",
   "name": "python3"
  },
  "language_info": {
   "codemirror_mode": {
    "name": "ipython",
    "version": 3
   },
   "file_extension": ".py",
   "mimetype": "text/x-python",
   "name": "python",
   "nbconvert_exporter": "python",
   "pygments_lexer": "ipython3",
   "version": "3.8.11"
  }
 },
 "nbformat": 4,
 "nbformat_minor": 5
}
