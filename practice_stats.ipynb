{
 "cells": [
  {
   "cell_type": "code",
   "execution_count": 1,
   "id": "c4e38dff",
   "metadata": {},
   "outputs": [],
   "source": [
    "import numpy as np\n",
    "import pandas as pd\n",
    "import seaborn as sns\n",
    "from matplotlib import pyplot as plt\n",
    "import statistics\n",
    "import scipy.stats as st\n",
    "import statsmodels as sm"
   ]
  },
  {
   "cell_type": "code",
   "execution_count": 2,
   "id": "8e8bcbf3",
   "metadata": {},
   "outputs": [
    {
     "name": "stdout",
     "output_type": "stream",
     "text": [
      "Mean: 16888.89\n",
      "Geometric Mean: 16701.71\n",
      "Harmonic Mean: 16528.48\n",
      "Median:  16000\n",
      "Mode:  15000\n"
     ]
    }
   ],
   "source": [
    "data1 = [14000, 19000, 16000, 20000, 15000, 16000, 15000, 15000, 22000]\n",
    "\n",
    "print(\"Mean: %.2f\" %statistics.mean(data1))\n",
    "print(\"Geometric Mean: %.2f\" %statistics.geometric_mean(data1))\n",
    "print(\"Harmonic Mean: %.2f\" %statistics.harmonic_mean(data1))\n",
    "print(\"Median: \" , statistics.median(data1))\n",
    "print(\"Mode: \" , statistics.mode(data1))\n"
   ]
  },
  {
   "cell_type": "code",
   "execution_count": 4,
   "id": "9f11019c",
   "metadata": {},
   "outputs": [
    {
     "name": "stdout",
     "output_type": "stream",
     "text": [
      "Mean: 65200.00\n",
      "Geometric Mean: 23462.91\n",
      "Harmonic Mean: 18297.77\n"
     ]
    }
   ],
   "source": [
    "data2 = [14000, 19000, 16000, 20000, 15000, 16000, 15000, 15000, 22000, 500000]\n",
    "\n",
    "print(\"Mean: %.2f\" %statistics.mean(data2))\n",
    "print(\"Geometric Mean: %.2f\" %statistics.geometric_mean(data2))\n",
    "print(\"Harmonic Mean: %.2f\" %statistics.harmonic_mean(data2))\n"
   ]
  },
  {
   "cell_type": "code",
   "execution_count": 5,
   "id": "0750e812",
   "metadata": {},
   "outputs": [
    {
     "name": "stdout",
     "output_type": "stream",
     "text": [
      "Q1:  20.0\n",
      "Q2:  29.0\n",
      "Q3:  39.0\n",
      "IQR:  19.0\n"
     ]
    }
   ],
   "source": [
    "data = [11,13,16,19,20,21,23,25,26,29,33,34,36,38,39,46,52,55,58]\n",
    "\n",
    "one, two, three = statistics.quantiles(data, n = 4)\n",
    "\n",
    "print(\"Q1: \", one)\n",
    "print(\"Q2: \", two)\n",
    "print(\"Q3: \", three)\n",
    "\n",
    "print(\"IQR: \", three - one)"
   ]
  },
  {
   "cell_type": "code",
   "execution_count": 6,
   "id": "ce0fee07",
   "metadata": {},
   "outputs": [
    {
     "name": "stdout",
     "output_type": "stream",
     "text": [
      "Q1:  8.0\n",
      "Q2:  10.0\n",
      "Q3:  12.0\n",
      "IQR:  4.0\n"
     ]
    }
   ],
   "source": [
    "ndata = [0, 0, 2, 5, 8, 8, 8, 9, 9, 10, 10, 10, 11, 12, 12, 12, 14, 15, 20, 25]\n",
    "\n",
    "o, t, th = statistics.quantiles(ndata, n = 4)\n",
    "print(\"Q1: \", o)\n",
    "print(\"Q2: \", t)\n",
    "print(\"Q3: \", th)\n",
    "iqrange = th - o\n",
    "print(\"IQR: \", iqrange)\n"
   ]
  },
  {
   "cell_type": "code",
   "execution_count": 7,
   "id": "006439df",
   "metadata": {},
   "outputs": [
    {
     "name": "stdout",
     "output_type": "stream",
     "text": [
      "18.0\n",
      "2.0\n"
     ]
    }
   ],
   "source": [
    "ufence = th + iqrange * 1.5\n",
    "lfence = o - iqrange * 1.5\n",
    "\n",
    "print(ufence)\n",
    "print(lfence)"
   ]
  },
  {
   "cell_type": "code",
   "execution_count": 8,
   "id": "e708be86",
   "metadata": {},
   "outputs": [
    {
     "name": "stdout",
     "output_type": "stream",
     "text": [
      "Variance of data:  38\n",
      "Population Variance of data:  33.77777777777778\n",
      "Standard Deviation of data:  6.164414002968976\n",
      "Population Standard Deviation of data:  5.811865258054231\n"
     ]
    }
   ],
   "source": [
    "ml_marks = [75, 69, 80, 70, 60, 63, 64, 69, 71]\n",
    "\n",
    "print(\"Variance of data: \", statistics.variance(ml_marks))\n",
    "print(\"Population Variance of data: \", statistics.pvariance(ml_marks))\n",
    "print(\"Standard Deviation of data: \", statistics.stdev(ml_marks))\n",
    "print(\"Population Standard Deviation of data: \", statistics.pstdev(ml_marks))\n",
    "\n",
    "\n"
   ]
  },
  {
   "cell_type": "code",
   "execution_count": 9,
   "id": "8fc02a58",
   "metadata": {},
   "outputs": [
    {
     "data": {
      "text/plain": [
       "array([41.47789255, 49.19001008, 60.78563826, ..., 67.12758548,\n",
       "       65.60509258, 60.75799144])"
      ]
     },
     "execution_count": 9,
     "metadata": {},
     "output_type": "execute_result"
    }
   ],
   "source": [
    "mu = 60\n",
    "\n",
    "sigma = 10\n",
    "np.random.seed(54)\n",
    "x = np.random.normal(mu, sigma, 10000)\n",
    "x"
   ]
  },
  {
   "cell_type": "code",
   "execution_count": 10,
   "id": "f370f584",
   "metadata": {},
   "outputs": [
    {
     "name": "stdout",
     "output_type": "stream",
     "text": [
      "np.mean(x):  59.919552883530756\n",
      "np.std(x):  10.044223230060146\n"
     ]
    }
   ],
   "source": [
    "# Let us verify, whether the mean and std dev of above distribution `x` is 60 and 10 respectively\n",
    "print(\"np.mean(x): \", np.mean(x))\n",
    "print(\"np.std(x): \", np.std(x))"
   ]
  },
  {
   "cell_type": "code",
   "execution_count": 11,
   "id": "ac1c1b9c",
   "metadata": {},
   "outputs": [
    {
     "data": {
      "text/plain": [
       "59"
      ]
     },
     "execution_count": 11,
     "metadata": {},
     "output_type": "execute_result"
    }
   ],
   "source": [
    "a = len(np.where(x > 85)[0])\n",
    "a"
   ]
  },
  {
   "cell_type": "code",
   "execution_count": 12,
   "id": "c85b43fb",
   "metadata": {},
   "outputs": [
    {
     "data": {
      "text/plain": [
       "8387"
      ]
     },
     "execution_count": 12,
     "metadata": {},
     "output_type": "execute_result"
    }
   ],
   "source": [
    "b = len(np.where(x > 50)[0])\n",
    "b"
   ]
  },
  {
   "cell_type": "code",
   "execution_count": 13,
   "id": "4fbb68c5",
   "metadata": {},
   "outputs": [
    {
     "data": {
      "image/png": "[encoded data removed]",
      "text/plain": [
       "<Figure size 360x360 with 1 Axes>"
      ]
     },
     "metadata": {
      "needs_background": "light"
     },
     "output_type": "display_data"
    }
   ],
   "source": [
    "sns.displot(x, color='green')\n",
    "plt.axvline(mu, color='orange')\n",
    "for i in [-3, -2, -1, 1, 2, 3]:\n",
    "    plt.axvline(mu+i*sigma, color='red')\n",
    "plt.axvline(85, color='purple')\n",
    "plt.show()"
   ]
  },
  {
   "cell_type": "code",
   "execution_count": 14,
   "id": "5fde6266",
   "metadata": {},
   "outputs": [],
   "source": [
    "mu = 90\n",
    "sigma = 2\n",
    "np.random.seed(10)\n",
    "y = np.random.normal(mu, sigma, 10000)"
   ]
  },
  {
   "cell_type": "code",
   "execution_count": 15,
   "id": "8d459538",
   "metadata": {},
   "outputs": [
    {
     "data": {
      "image/png": "[encoded data removed]",
      "text/plain": [
       "<Figure size 360x360 with 1 Axes>"
      ]
     },
     "metadata": {
      "needs_background": "light"
     },
     "output_type": "display_data"
    }
   ],
   "source": [
    "sns.displot(y, color='green')\n",
    "plt.axvline(mu, color='orange')\n",
    "for i in [-3, -2, -1, 1, 2, 3]:\n",
    "    plt.axvline(mu+i*sigma, color='red')\n",
    "plt.axvline(85, color='purple')\n",
    "plt.show()"
   ]
  },
  {
   "cell_type": "code",
   "execution_count": 16,
   "id": "781793d6",
   "metadata": {},
   "outputs": [],
   "source": [
    "from scipy import stats\n",
    "s = stats.skewnorm.rvs(20, size=10000)"
   ]
  },
  {
   "cell_type": "code",
   "execution_count": 17,
   "id": "52ec64e0",
   "metadata": {},
   "outputs": [
    {
     "name": "stdout",
     "output_type": "stream",
     "text": [
      "Mean:  0.8033489452750906\n",
      "Median:  0.6776262344157846\n",
      "Mode:  2.1675900775068113\n",
      "Skewness:  0.9866253074915688\n"
     ]
    }
   ],
   "source": [
    "print(\"Mean: \", statistics.mean(s))\n",
    "print(\"Median: \", statistics.median(s))\n",
    "print(\"Mode: \", statistics.mode(s))\n",
    "print(\"Skewness: \", stats.skew(s))"
   ]
  },
  {
   "cell_type": "code",
   "execution_count": 18,
   "id": "e0446f57",
   "metadata": {},
   "outputs": [
    {
     "data": {
      "text/plain": [
       "<seaborn.axisgrid.FacetGrid at 0x18a2079b2b0>"
      ]
     },
     "execution_count": 18,
     "metadata": {},
     "output_type": "execute_result"
    },
    {
     "data": {
      "image/png": "[encoded data removed]",
      "text/plain": [
       "<Figure size 360x360 with 1 Axes>"
      ]
     },
     "metadata": {
      "needs_background": "light"
     },
     "output_type": "display_data"
    }
   ],
   "source": [
    "sns.displot(s)"
   ]
  },
  {
   "cell_type": "code",
   "execution_count": 24,
   "id": "10cb4ebd",
   "metadata": {},
   "outputs": [
    {
     "name": "stdout",
     "output_type": "stream",
     "text": [
      "mean(weight):  73\n",
      "mean(height):  175.33333333333334\n",
      "var(weight):  103.2\n",
      "var(height):  157.86666666666667\n"
     ]
    },
    {
     "ename": "AttributeError",
     "evalue": "module 'statistics' has no attribute 'covariance'",
     "output_type": "error",
     "traceback": [
      "\u001b[1;31m---------------------------------------------------------------------------\u001b[0m",
      "\u001b[1;31mAttributeError\u001b[0m                            Traceback (most recent call last)",
      "\u001b[1;32mC:\\Users\\ALIHAR~1\\AppData\\Local\\Temp/ipykernel_10020/3034017416.py\u001b[0m in \u001b[0;36m<module>\u001b[1;34m\u001b[0m\n\u001b[0;32m      9\u001b[0m \u001b[0mprint\u001b[0m\u001b[1;33m(\u001b[0m\u001b[1;34m\"var(weight): \"\u001b[0m\u001b[1;33m,\u001b[0m \u001b[0mstatistics\u001b[0m\u001b[1;33m.\u001b[0m\u001b[0mvariance\u001b[0m\u001b[1;33m(\u001b[0m\u001b[0mweight\u001b[0m\u001b[1;33m)\u001b[0m\u001b[1;33m)\u001b[0m\u001b[1;33m\u001b[0m\u001b[1;33m\u001b[0m\u001b[0m\n\u001b[0;32m     10\u001b[0m \u001b[0mprint\u001b[0m\u001b[1;33m(\u001b[0m\u001b[1;34m\"var(height): \"\u001b[0m\u001b[1;33m,\u001b[0m \u001b[0mstatistics\u001b[0m\u001b[1;33m.\u001b[0m\u001b[0mvariance\u001b[0m\u001b[1;33m(\u001b[0m\u001b[0mheight\u001b[0m\u001b[1;33m)\u001b[0m\u001b[1;33m)\u001b[0m\u001b[1;33m\u001b[0m\u001b[1;33m\u001b[0m\u001b[0m\n\u001b[1;32m---> 11\u001b[1;33m \u001b[0mcor\u001b[0m \u001b[1;33m=\u001b[0m \u001b[0mstatistics\u001b[0m\u001b[1;33m.\u001b[0m\u001b[0mcovariance\u001b[0m\u001b[1;33m(\u001b[0m\u001b[0mweight\u001b[0m\u001b[1;33m,\u001b[0m \u001b[0mheight\u001b[0m\u001b[1;33m)\u001b[0m\u001b[1;33m\u001b[0m\u001b[1;33m\u001b[0m\u001b[0m\n\u001b[0m\u001b[0;32m     12\u001b[0m \u001b[0mprint\u001b[0m\u001b[1;33m(\u001b[0m\u001b[1;34m\"cov(weight, height): \"\u001b[0m\u001b[1;33m,\u001b[0m \u001b[0mcor\u001b[0m\u001b[1;33m)\u001b[0m\u001b[1;33m\u001b[0m\u001b[1;33m\u001b[0m\u001b[0m\n\u001b[0;32m     13\u001b[0m \u001b[0mprint\u001b[0m\u001b[1;33m(\u001b[0m\u001b[1;34m\"Pearson Correlation Coefficient (r): \"\u001b[0m\u001b[1;33m,\u001b[0m\u001b[0mstatistics\u001b[0m\u001b[1;33m.\u001b[0m\u001b[0mcorrelation\u001b[0m\u001b[1;33m(\u001b[0m\u001b[0mweight\u001b[0m\u001b[1;33m,\u001b[0m \u001b[0mheight\u001b[0m\u001b[1;33m)\u001b[0m\u001b[1;33m)\u001b[0m\u001b[1;33m\u001b[0m\u001b[1;33m\u001b[0m\u001b[0m\n",
      "\u001b[1;31mAttributeError\u001b[0m: module 'statistics' has no attribute 'covariance'"
     ]
    }
   ],
   "source": [
    "from matplotlib import pyplot as plt\n",
    "import statistics\n",
    "\n",
    "weight = [61,62,73,74,82,86]\n",
    "height = [157,168,170,181,191,185]\n",
    "\n",
    "print(\"mean(weight): \", statistics.mean(weight))\n",
    "print(\"mean(height): \", statistics.mean(height))\n",
    "print(\"var(weight): \", statistics.variance(weight))\n",
    "print(\"var(height): \", statistics.variance(height))\n",
    "cor = statistics.covariance(weight, height)\n",
    "print(\"cov(weight, height): \", cor)\n",
    "print(\"Pearson Correlation Coefficient (r): \",statistics.correlation(weight, height))"
   ]
  }
 ],
 "metadata": {
  "kernelspec": {
   "display_name": "Python 3 (ipykernel)",
   "language": "python",
   "name": "python3"
  },
  "language_info": {
   "codemirror_mode": {
    "name": "ipython",
    "version": 3
   },
   "file_extension": ".py",
   "mimetype": "text/x-python",
   "name": "python",
   "nbconvert_exporter": "python",
   "pygments_lexer": "ipython3",
   "version": "3.8.11"
  }
 },
 "nbformat": 4,
 "nbformat_minor": 5
}
