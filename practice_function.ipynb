{
  "nbformat": 4,
  "nbformat_minor": 0,
  "metadata": {
    "colab": {
      "provenance": [],
      "authorship_tag": "ABX9TyMCfVnoVZqgKwtCjDvhbi48",
      "include_colab_link": true
    },
    "kernelspec": {
      "name": "python3",
      "display_name": "Python 3"
    },
    "language_info": {
      "name": "python"
    }
  },
  "cells": [
    {
      "cell_type": "markdown",
      "metadata": {
        "id": "view-in-github",
        "colab_type": "text"
      },
      "source": [
        "<a href=\"https://colab.research.google.com/github/aliharris10/test_repo/blob/main/practice_function.ipynb\" target=\"_parent\"><img src=\"https://colab.research.google.com/assets/colab-badge.svg\" alt=\"Open In Colab\"/></a>"
      ]
    },
    {
      "cell_type": "code",
      "execution_count": null,
      "metadata": {
        "colab": {
          "base_uri": "https://localhost:8080/"
        },
        "id": "J1NA0BnsPM7f",
        "outputId": "ba895e3b-6f62-4d9e-b392-aa58c30394e3"
      },
      "outputs": [
        {
          "output_type": "stream",
          "name": "stdout",
          "text": [
            "11\n"
          ]
        }
      ],
      "source": [
        "def sum(a, b):\n",
        "  s = a + b\n",
        "  return s\n",
        "\n",
        "\n",
        "print(sum(5,6))"
      ]
    },
    {
      "cell_type": "code",
      "source": [
        "check_odd = lambda a: a % 2 != 0\n",
        "\n",
        "print(check_odd(4))"
      ],
      "metadata": {
        "colab": {
          "base_uri": "https://localhost:8080/"
        },
        "id": "FqPcIKNyPYyb",
        "outputId": "8ad344a7-fd4c-4dbe-b178-67fd890de06c"
      },
      "execution_count": null,
      "outputs": [
        {
          "output_type": "stream",
          "name": "stdout",
          "text": [
            "False\n"
          ]
        }
      ]
    },
    {
      "cell_type": "code",
      "source": [
        "fun2 = lambda x, y: x**y #function to print the power of a number \n",
        "\n",
        "print(fun2(2,3))"
      ],
      "metadata": {
        "colab": {
          "base_uri": "https://localhost:8080/"
        },
        "id": "Xu1mKMSnILLT",
        "outputId": "33b2c997-b624-4cc2-e9e5-d9a43538329a"
      },
      "execution_count": 1,
      "outputs": [
        {
          "output_type": "stream",
          "name": "stdout",
          "text": [
            "8\n"
          ]
        }
      ]
    },
    {
      "cell_type": "code",
      "source": [
        "rev_str = lambda a: a[:: -1]\n",
        "\n",
        "print(rev_str(\"data\"))"
      ],
      "metadata": {
        "colab": {
          "base_uri": "https://localhost:8080/"
        },
        "id": "6iONz9ktPxG3",
        "outputId": "29314d17-897f-4ca4-9807-28dae7949c91"
      },
      "execution_count": null,
      "outputs": [
        {
          "output_type": "stream",
          "name": "stdout",
          "text": [
            "atad\n"
          ]
        }
      ]
    },
    {
      "cell_type": "code",
      "source": [
        "len_chck = lambda l: len(l)\n",
        "\n",
        "t = (1,3,4,5,5,6,6,7)\n",
        "print(len_chck(t))\n"
      ],
      "metadata": {
        "colab": {
          "base_uri": "https://localhost:8080/"
        },
        "id": "KS6WPjqjP-Fo",
        "outputId": "c466ded7-9114-4d38-bc1c-11233fcb4b7a"
      },
      "execution_count": null,
      "outputs": [
        {
          "output_type": "stream",
          "name": "stdout",
          "text": [
            "8\n"
          ]
        }
      ]
    },
    {
      "cell_type": "code",
      "source": [
        "def find_cube(x):\n",
        "  return x**3\n",
        "\n",
        "print(find_cube(3))\n",
        "print(find_cube(10))\n"
      ],
      "metadata": {
        "colab": {
          "base_uri": "https://localhost:8080/"
        },
        "id": "Sgw9LmYOQU40",
        "outputId": "eb73725d-4512-487f-ba76-d5d700d3cc2a"
      },
      "execution_count": 5,
      "outputs": [
        {
          "output_type": "stream",
          "name": "stdout",
          "text": [
            "27\n",
            "1000\n"
          ]
        }
      ]
    },
    {
      "cell_type": "code",
      "source": [
        "def f_l(a,b,c):\n",
        "  if(a>b) and (a>c):\n",
        "    return a\n",
        "  elif(b>a) and (b>c): \n",
        "    return b\n",
        "  else:\n",
        "    return c \n",
        "\n",
        "f_l(4,3,88)    "
      ],
      "metadata": {
        "colab": {
          "base_uri": "https://localhost:8080/"
        },
        "id": "SKiTkhnbISI7",
        "outputId": "f0d02d95-80ac-4ae0-c418-7362fdadc2aa"
      },
      "execution_count": 2,
      "outputs": [
        {
          "output_type": "execute_result",
          "data": {
            "text/plain": [
              "88"
            ]
          },
          "metadata": {},
          "execution_count": 2
        }
      ]
    },
    {
      "cell_type": "code",
      "source": [
        "f_large = lambda a,b: a if(a>b) else b\n",
        "\n",
        "print(f_large(-888,777))"
      ],
      "metadata": {
        "colab": {
          "base_uri": "https://localhost:8080/"
        },
        "id": "H0GAAgsEIV08",
        "outputId": "4a11d7ff-a58a-465a-cbe7-eee781489ceb"
      },
      "execution_count": 3,
      "outputs": [
        {
          "output_type": "stream",
          "name": "stdout",
          "text": [
            "777\n"
          ]
        }
      ]
    },
    {
      "cell_type": "code",
      "source": [
        "num = [2,3,4,5,6]\n",
        "\n",
        "myNewList = list(map(find_cube, num))"
      ],
      "metadata": {
        "id": "PVHJJ0WyJNwb"
      },
      "execution_count": 9,
      "outputs": []
    },
    {
      "cell_type": "code",
      "source": [
        "print(num)\n",
        "print(myNewList)"
      ],
      "metadata": {
        "colab": {
          "base_uri": "https://localhost:8080/"
        },
        "id": "lVDd_R2CJtso",
        "outputId": "c82ed118-9413-4387-e62b-105fc37320ed"
      },
      "execution_count": 8,
      "outputs": [
        {
          "output_type": "stream",
          "name": "stdout",
          "text": [
            "[2, 3, 4, 5, 6]\n",
            "[8, 27, 64, 125, 216]\n"
          ]
        }
      ]
    },
    {
      "cell_type": "code",
      "source": [
        "l1 = [44,224,511,51,98,18,918]\n",
        "\n",
        "l2 = list(map(lambda l: l % 3, l1)) #list of remainders\n",
        "\n",
        "print(\"Actual List Items: \", l1)\n",
        "print(\"The Remainders: \", l2)"
      ],
      "metadata": {
        "colab": {
          "base_uri": "https://localhost:8080/"
        },
        "id": "CfoXEDu3KRDZ",
        "outputId": "e6039aaf-c730-4836-913b-f4203a05dbbf"
      },
      "execution_count": 12,
      "outputs": [
        {
          "output_type": "stream",
          "name": "stdout",
          "text": [
            "Actual List Items:  [44, 224, 511, 51, 98, 18, 918]\n",
            "The Remainders:  [2, 2, 1, 0, 2, 0, 0]\n"
          ]
        }
      ]
    },
    {
      "cell_type": "code",
      "source": [
        "#program to check a number is a multiple of 7 or not\n",
        "\n",
        "l3 = [33,245,2561,68,991,8173,91,1833,871,1801]\n",
        "\n",
        "l4 = list(map(lambda l: 'Y' if(l%7 == 0) else 'N', l3))\n",
        "\n",
        "print('Actual List', l3)\n",
        "print('Multiple List', l4)\n",
        "\n"
      ],
      "metadata": {
        "colab": {
          "base_uri": "https://localhost:8080/"
        },
        "id": "OQknEMVYLGZ6",
        "outputId": "333bae11-b5d2-4b47-98bf-ff5f4222cd0d"
      },
      "execution_count": 13,
      "outputs": [
        {
          "output_type": "stream",
          "name": "stdout",
          "text": [
            "Actual List [33, 245, 2561, 68, 991, 8173, 91, 1833, 871, 1801]\n",
            "Multiple List ['N', 'Y', 'N', 'N', 'N', 'N', 'Y', 'N', 'N', 'N']\n"
          ]
        }
      ]
    }
  ]
}