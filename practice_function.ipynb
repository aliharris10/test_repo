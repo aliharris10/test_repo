{
  "nbformat": 4,
  "nbformat_minor": 0,
  "metadata": {
    "colab": {
      "provenance": []
    },
    "kernelspec": {
      "name": "python3",
      "display_name": "Python 3"
    },
    "language_info": {
      "name": "python"
    }
  },
  "cells": [
    {
      "cell_type": "code",
      "execution_count": null,
      "metadata": {
        "colab": {
          "base_uri": "https://localhost:8080/"
        },
        "id": "J1NA0BnsPM7f",
        "outputId": "ba895e3b-6f62-4d9e-b392-aa58c30394e3"
      },
      "outputs": [
        {
          "output_type": "stream",
          "name": "stdout",
          "text": [
            "11\n"
          ]
        }
      ],
      "source": [
        "def sum(a, b):\n",
        "  s = a + b\n",
        "  return s\n",
        "\n",
        "\n",
        "print(sum(5,6))"
      ]
    },
    {
      "cell_type": "code",
      "source": [
        "check_odd = lambda a: a % 2 != 0\n",
        "\n",
        "print(check_odd(4))"
      ],
      "metadata": {
        "colab": {
          "base_uri": "https://localhost:8080/"
        },
        "id": "FqPcIKNyPYyb",
        "outputId": "8ad344a7-fd4c-4dbe-b178-67fd890de06c"
      },
      "execution_count": null,
      "outputs": [
        {
          "output_type": "stream",
          "name": "stdout",
          "text": [
            "False\n"
          ]
        }
      ]
    },
    {
      "cell_type": "code",
      "source": [
        "fun2 = lambda x, y: x**y #function to print the power of a number \n",
        "\n",
        "print(fun2(2,3))"
      ],
      "metadata": {
        "colab": {
          "base_uri": "https://localhost:8080/"
        },
        "id": "Xu1mKMSnILLT",
        "outputId": "33b2c997-b624-4cc2-e9e5-d9a43538329a"
      },
      "execution_count": 1,
      "outputs": [
        {
          "output_type": "stream",
          "name": "stdout",
          "text": [
            "8\n"
          ]
        }
      ]
    },
    {
      "cell_type": "code",
      "source": [
        "rev_str = lambda a: a[:: -1]\n",
        "\n",
        "print(rev_str(\"data\"))"
      ],
      "metadata": {
        "colab": {
          "base_uri": "https://localhost:8080/"
        },
        "id": "6iONz9ktPxG3",
        "outputId": "29314d17-897f-4ca4-9807-28dae7949c91"
      },
      "execution_count": null,
      "outputs": [
        {
          "output_type": "stream",
          "name": "stdout",
          "text": [
            "atad\n"
          ]
        }
      ]
    },
    {
      "cell_type": "code",
      "source": [
        "len_chck = lambda l: len(l)\n",
        "\n",
        "t = (1,3,4,5,5,6,6,7)\n",
        "print(len_chck(t))\n"
      ],
      "metadata": {
        "colab": {
          "base_uri": "https://localhost:8080/"
        },
        "id": "KS6WPjqjP-Fo",
        "outputId": "c466ded7-9114-4d38-bc1c-11233fcb4b7a"
      },
      "execution_count": null,
      "outputs": [
        {
          "output_type": "stream",
          "name": "stdout",
          "text": [
            "8\n"
          ]
        }
      ]
    },
    {
      "cell_type": "code",
      "source": [
        "def find_cube(x):\n",
        "  return x**3\n",
        "\n",
        "print(find_cube(3))\n",
        "print(find_cube(10))\n"
      ],
      "metadata": {
        "colab": {
          "base_uri": "https://localhost:8080/"
        },
        "id": "Sgw9LmYOQU40",
        "outputId": "ffc3395b-8411-4c0a-b58d-c322840e13c2"
      },
      "execution_count": null,
      "outputs": [
        {
          "output_type": "stream",
          "name": "stdout",
          "text": [
            "27\n",
            "1000\n"
          ]
        }
      ]
    },
    {
      "cell_type": "code",
      "source": [
        "def f_l(a,b,c):\n",
        "  if(a>b) and (a>c):\n",
        "    return a\n",
        "  elif(b>a) and (b>c): \n",
        "    return b\n",
        "  else:\n",
        "    return c \n",
        "\n",
        "f_l(4,3,88)    "
      ],
      "metadata": {
        "colab": {
          "base_uri": "https://localhost:8080/"
        },
        "id": "SKiTkhnbISI7",
        "outputId": "f0d02d95-80ac-4ae0-c418-7362fdadc2aa"
      },
      "execution_count": 2,
      "outputs": [
        {
          "output_type": "execute_result",
          "data": {
            "text/plain": [
              "88"
            ]
          },
          "metadata": {},
          "execution_count": 2
        }
      ]
    },
    {
      "cell_type": "code",
      "source": [
        "f_large = lambda a,b: a if(a>b) else b\n",
        "\n",
        "print(f_large(-888,777))"
      ],
      "metadata": {
        "id": "H0GAAgsEIV08",
        "outputId": "4a11d7ff-a58a-465a-cbe7-eee781489ceb",
        "colab": {
          "base_uri": "https://localhost:8080/"
        }
      },
      "execution_count": 3,
      "outputs": [
        {
          "output_type": "stream",
          "name": "stdout",
          "text": [
            "777\n"
          ]
        }
      ]
    }
  ]
}