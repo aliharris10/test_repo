{
 "cells": [
  {
   "cell_type": "code",
   "execution_count": 1,
   "id": "91c44e99",
   "metadata": {},
   "outputs": [],
   "source": [
    "import numpy as np"
   ]
  },
  {
   "cell_type": "code",
   "execution_count": 14,
   "id": "17a6c106",
   "metadata": {},
   "outputs": [
    {
     "name": "stdout",
     "output_type": "stream",
     "text": [
      "<class 'numpy.ndarray'>\n"
     ]
    }
   ],
   "source": [
    "arr = np.array([33,44,5,55,13,553,667,11,3,7,88], np.int64)\n",
    "\n",
    "print(type(arr))"
   ]
  },
  {
   "cell_type": "code",
   "execution_count": 15,
   "id": "1eb860d4",
   "metadata": {},
   "outputs": [
    {
     "name": "stdout",
     "output_type": "stream",
     "text": [
      "[ 33  44   5  55  13 553 667  11   3   7  88]\n",
      "1\n",
      "(11,)\n",
      "11\n",
      "int64\n",
      "(8,)\n",
      "8\n",
      "88\n"
     ]
    }
   ],
   "source": [
    "print(arr)\n",
    "print(arr.ndim)\n",
    "print(arr.shape)\n",
    "print(arr.size)\n",
    "print(arr.dtype)\n",
    "print(arr.strides)\n",
    "print(arr.itemsize)\n",
    "print(arr.nbytes)"
   ]
  },
  {
   "cell_type": "code",
   "execution_count": 19,
   "id": "b1d9a428",
   "metadata": {},
   "outputs": [],
   "source": [
    "twoL = [[1,2,4],[4,5,6],[7,8,9]]\n",
    "\n",
    "twoD = np.array(twoL)\n"
   ]
  },
  {
   "cell_type": "code",
   "execution_count": 20,
   "id": "93ecaa54",
   "metadata": {},
   "outputs": [
    {
     "name": "stdout",
     "output_type": "stream",
     "text": [
      "[[1 2 4]\n",
      " [4 5 6]\n",
      " [7 8 9]]\n",
      "2\n",
      "(3, 3)\n",
      "9\n",
      "int32\n",
      "(12, 4)\n",
      "4\n",
      "36\n"
     ]
    }
   ],
   "source": [
    "print(twoD)\n",
    "print(twoD.ndim)\n",
    "print(twoD.shape)\n",
    "print(twoD.size)\n",
    "print(twoD.dtype)\n",
    "print(twoD.strides)\n",
    "print(twoD.itemsize)\n",
    "print(twoD.nbytes)"
   ]
  },
  {
   "cell_type": "code",
   "execution_count": 23,
   "id": "4b205a77",
   "metadata": {},
   "outputs": [
    {
     "data": {
      "text/plain": [
       "array([[0., 0., 0., 0., 0.],\n",
       "       [0., 0., 0., 0., 0.],\n",
       "       [0., 0., 0., 0., 0.],\n",
       "       [0., 0., 0., 0., 0.]])"
      ]
     },
     "execution_count": 23,
     "metadata": {},
     "output_type": "execute_result"
    }
   ],
   "source": [
    "arr = np.zeros((4,5))\n",
    "arr"
   ]
  },
  {
   "cell_type": "code",
   "execution_count": 25,
   "id": "1df3dce6",
   "metadata": {},
   "outputs": [
    {
     "data": {
      "text/plain": [
       "array([[1., 1., 1., 1., 1., 1.],\n",
       "       [1., 1., 1., 1., 1., 1.],\n",
       "       [1., 1., 1., 1., 1., 1.]])"
      ]
     },
     "execution_count": 25,
     "metadata": {},
     "output_type": "execute_result"
    }
   ],
   "source": [
    "arr2 = np.ones((3,6))\n",
    "arr2"
   ]
  },
  {
   "cell_type": "code",
   "execution_count": 27,
   "id": "d53ec7e2",
   "metadata": {},
   "outputs": [
    {
     "data": {
      "text/plain": [
       "array([54, 54, 54, 54, 54, 54, 54])"
      ]
     },
     "execution_count": 27,
     "metadata": {},
     "output_type": "execute_result"
    }
   ],
   "source": [
    "arr3 = np.full(7,54) #create a 1-d array and fill 54\n",
    "arr3"
   ]
  },
  {
   "cell_type": "code",
   "execution_count": 29,
   "id": "122ed281",
   "metadata": {},
   "outputs": [
    {
     "data": {
      "text/plain": [
       "array([[78, 78, 78, 78],\n",
       "       [78, 78, 78, 78],\n",
       "       [78, 78, 78, 78]])"
      ]
     },
     "execution_count": 29,
     "metadata": {},
     "output_type": "execute_result"
    }
   ],
   "source": [
    "arr4 = np.full((3,4),78) #create a 2-d array and fill 78\n",
    "arr4"
   ]
  }
 ],
 "metadata": {
  "kernelspec": {
   "display_name": "Python 3 (ipykernel)",
   "language": "python",
   "name": "python3"
  },
  "language_info": {
   "codemirror_mode": {
    "name": "ipython",
    "version": 3
   },
   "file_extension": ".py",
   "mimetype": "text/x-python",
   "name": "python",
   "nbconvert_exporter": "python",
   "pygments_lexer": "ipython3",
   "version": "3.8.11"
  }
 },
 "nbformat": 4,
 "nbformat_minor": 5
}
