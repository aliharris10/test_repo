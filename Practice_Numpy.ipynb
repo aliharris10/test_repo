{
 "cells": [
  {
   "cell_type": "code",
   "execution_count": 1,
   "id": "8b41c255",
   "metadata": {},
   "outputs": [],
   "source": [
    "import numpy as np"
   ]
  },
  {
   "cell_type": "code",
   "execution_count": 14,
   "id": "85ac2bb3",
   "metadata": {},
   "outputs": [
    {
     "name": "stdout",
     "output_type": "stream",
     "text": [
      "<class 'numpy.ndarray'>\n"
     ]
    }
   ],
   "source": [
    "arr = np.array([33,44,5,55,13,553,667,11,3,7,88], np.int64)\n",
    "\n",
    "print(type(arr))"
   ]
  },
  {
   "cell_type": "code",
   "execution_count": 15,
   "id": "91e369f3",
   "metadata": {},
   "outputs": [
    {
     "name": "stdout",
     "output_type": "stream",
     "text": [
      "[ 33  44   5  55  13 553 667  11   3   7  88]\n",
      "1\n",
      "(11,)\n",
      "11\n",
      "int64\n",
      "(8,)\n",
      "8\n",
      "88\n"
     ]
    }
   ],
   "source": [
    "print(arr)\n",
    "print(arr.ndim)\n",
    "print(arr.shape)\n",
    "print(arr.size)\n",
    "print(arr.dtype)\n",
    "print(arr.strides)\n",
    "print(arr.itemsize)\n",
    "print(arr.nbytes)"
   ]
  },
  {
   "cell_type": "code",
   "execution_count": 19,
   "id": "770b6b62",
   "metadata": {},
   "outputs": [],
   "source": [
    "twoL = [[1,2,4],[4,5,6],[7,8,9]]\n",
    "\n",
    "twoD = np.array(twoL)\n"
   ]
  },
  {
   "cell_type": "code",
   "execution_count": 20,
   "id": "35476073",
   "metadata": {},
   "outputs": [
    {
     "name": "stdout",
     "output_type": "stream",
     "text": [
      "[[1 2 4]\n",
      " [4 5 6]\n",
      " [7 8 9]]\n",
      "2\n",
      "(3, 3)\n",
      "9\n",
      "int32\n",
      "(12, 4)\n",
      "4\n",
      "36\n"
     ]
    }
   ],
   "source": [
    "print(twoD)\n",
    "print(twoD.ndim)\n",
    "print(twoD.shape)\n",
    "print(twoD.size)\n",
    "print(twoD.dtype)\n",
    "print(twoD.strides)\n",
    "print(twoD.itemsize)\n",
    "print(twoD.nbytes)"
   ]
  }
 ],
 "metadata": {
  "kernelspec": {
   "display_name": "Python 3 (ipykernel)",
   "language": "python",
   "name": "python3"
  },
  "language_info": {
   "codemirror_mode": {
    "name": "ipython",
    "version": 3
   },
   "file_extension": ".py",
   "mimetype": "text/x-python",
   "name": "python",
   "nbconvert_exporter": "python",
   "pygments_lexer": "ipython3",
   "version": "3.8.11"
  }
 },
 "nbformat": 4,
 "nbformat_minor": 5
}
