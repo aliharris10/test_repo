{
 "cells": [
  {
   "cell_type": "code",
   "execution_count": 1,
   "id": "fa4d15c5",
   "metadata": {},
   "outputs": [],
   "source": [
    "import statistics\n",
    "import scipy.stats as st\n",
    "import statsmodels as sm\n",
    "import pandas as pd\n",
    "import numpy as np\n",
    "import seaborn as sns\n",
    "from matplotlib import pyplot as plt"
   ]
  },
  {
   "cell_type": "code",
   "execution_count": 2,
   "id": "4977155b",
   "metadata": {},
   "outputs": [
    {
     "name": "stdout",
     "output_type": "stream",
     "text": [
      "[[1.         0.89784124]\n",
      " [0.89784124 1.        ]]\n",
      "[[103.2        114.6       ]\n",
      " [114.6        157.86666667]]\n"
     ]
    }
   ],
   "source": [
    "weight = [61,62,73,74,82,86]\n",
    "height = [157,168,170,181,191,185]\n",
    "\n",
    "print(np.corrcoef(weight, height))\n",
    "print(np.cov(weight, height))\n"
   ]
  },
  {
   "cell_type": "code",
   "execution_count": 4,
   "id": "73c4730f",
   "metadata": {},
   "outputs": [
    {
     "ename": "AttributeError",
     "evalue": "module 'statistics' has no attribute 'covariance'",
     "output_type": "error",
     "traceback": [
      "\u001b[1;31m---------------------------------------------------------------------------\u001b[0m",
      "\u001b[1;31mAttributeError\u001b[0m                            Traceback (most recent call last)",
      "\u001b[1;32mC:\\Users\\ALIHAR~1\\AppData\\Local\\Temp/ipykernel_4484/1875001674.py\u001b[0m in \u001b[0;36m<module>\u001b[1;34m\u001b[0m\n\u001b[0;32m      3\u001b[0m \u001b[0my\u001b[0m \u001b[1;33m=\u001b[0m \u001b[1;33m[\u001b[0m\u001b[1;36m3\u001b[0m\u001b[1;33m,\u001b[0m \u001b[1;36m5\u001b[0m\u001b[1;33m,\u001b[0m \u001b[1;36m9\u001b[0m\u001b[1;33m,\u001b[0m \u001b[1;36m0\u001b[0m\u001b[1;33m]\u001b[0m\u001b[1;33m\u001b[0m\u001b[1;33m\u001b[0m\u001b[0m\n\u001b[0;32m      4\u001b[0m \u001b[1;33m\u001b[0m\u001b[0m\n\u001b[1;32m----> 5\u001b[1;33m \u001b[0mprint\u001b[0m\u001b[1;33m(\u001b[0m\u001b[1;34m\"Covariance: \"\u001b[0m\u001b[1;33m,\u001b[0m \u001b[0mstatistics\u001b[0m\u001b[1;33m.\u001b[0m\u001b[0mcovariance\u001b[0m\u001b[1;33m(\u001b[0m\u001b[0mx\u001b[0m\u001b[1;33m,\u001b[0m\u001b[0my\u001b[0m\u001b[1;33m)\u001b[0m\u001b[1;33m)\u001b[0m\u001b[1;33m\u001b[0m\u001b[1;33m\u001b[0m\u001b[0m\n\u001b[0m",
      "\u001b[1;31mAttributeError\u001b[0m: module 'statistics' has no attribute 'covariance'"
     ]
    }
   ],
   "source": [
    "import statistics\n",
    "x = [2, 3, 4, 2]\n",
    "y = [3, 5, 9, 0]\n",
    "\n",
    "print(\"Covariance: \", statistics.covariance(x,y))"
   ]
  },
  {
   "cell_type": "code",
   "execution_count": 5,
   "id": "cc8b3009",
   "metadata": {},
   "outputs": [
    {
     "data": {
      "text/plain": [
       "['Counter',\n",
       " 'Decimal',\n",
       " 'Fraction',\n",
       " 'NormalDist',\n",
       " 'StatisticsError',\n",
       " '__all__',\n",
       " '__builtins__',\n",
       " '__cached__',\n",
       " '__doc__',\n",
       " '__file__',\n",
       " '__loader__',\n",
       " '__name__',\n",
       " '__package__',\n",
       " '__spec__',\n",
       " '_coerce',\n",
       " '_convert',\n",
       " '_exact_ratio',\n",
       " '_fail_neg',\n",
       " '_find_lteq',\n",
       " '_find_rteq',\n",
       " '_isfinite',\n",
       " '_normal_dist_inv_cdf',\n",
       " '_ss',\n",
       " '_sum',\n",
       " 'bisect_left',\n",
       " 'bisect_right',\n",
       " 'erf',\n",
       " 'exp',\n",
       " 'fabs',\n",
       " 'fmean',\n",
       " 'fsum',\n",
       " 'geometric_mean',\n",
       " 'groupby',\n",
       " 'harmonic_mean',\n",
       " 'hypot',\n",
       " 'itemgetter',\n",
       " 'log',\n",
       " 'math',\n",
       " 'mean',\n",
       " 'median',\n",
       " 'median_grouped',\n",
       " 'median_high',\n",
       " 'median_low',\n",
       " 'mode',\n",
       " 'multimode',\n",
       " 'numbers',\n",
       " 'pstdev',\n",
       " 'pvariance',\n",
       " 'quantiles',\n",
       " 'random',\n",
       " 'sqrt',\n",
       " 'stdev',\n",
       " 'tau',\n",
       " 'variance']"
      ]
     },
     "execution_count": 5,
     "metadata": {},
     "output_type": "execute_result"
    }
   ],
   "source": [
    "dir(statistics)"
   ]
  },
  {
   "cell_type": "code",
   "execution_count": 7,
   "id": "fea14b42",
   "metadata": {},
   "outputs": [],
   "source": [
    "import math as m"
   ]
  },
  {
   "cell_type": "code",
   "execution_count": 8,
   "id": "b0e4f210",
   "metadata": {},
   "outputs": [],
   "source": [
    "def prob_calc(n, k):\n",
    "#    num = m.factorial(n)/(m.factorial(k) * m.factorial(n-k))\n",
    "    num =  m.comb(n,k)\n",
    "    den = 2**n\n",
    "    rv = num/den\n",
    "    return rv"
   ]
  },
  {
   "cell_type": "code",
   "execution_count": 14,
   "id": "4e43b532",
   "metadata": {},
   "outputs": [
    {
     "name": "stdout",
     "output_type": "stream",
     "text": [
      "prob_calc(10, 1):  0.009765625\n",
      "prob_calc(10, 7):  0.1171875\n"
     ]
    }
   ],
   "source": [
    "# In ten tosses what is the probability of getting exactly one head\n",
    "print(\"prob_calc(10, 1): \", prob_calc(10, 1))\n",
    "# In ten tosses what is the probability of getting exactly seven head\n",
    "print(\"prob_calc(10, 7): \", prob_calc(10, 7))"
   ]
  },
  {
   "cell_type": "code",
   "execution_count": 22,
   "id": "91f06443",
   "metadata": {},
   "outputs": [
    {
     "data": {
      "text/plain": [
       "2"
      ]
     },
     "execution_count": 22,
     "metadata": {},
     "output_type": "execute_result"
    }
   ],
   "source": [
    "np.random.binomial(n = 4, p = 0.5)"
   ]
  },
  {
   "cell_type": "code",
   "execution_count": 34,
   "id": "d46fb131",
   "metadata": {},
   "outputs": [
    {
     "data": {
      "text/plain": [
       "3897"
      ]
     },
     "execution_count": 34,
     "metadata": {},
     "output_type": "execute_result"
    }
   ],
   "source": [
    "np.random.binomial(n = 8000, p = 0.5)"
   ]
  },
  {
   "cell_type": "code",
   "execution_count": 40,
   "id": "869d7b71",
   "metadata": {},
   "outputs": [
    {
     "data": {
      "text/plain": [
       "array([3, 2, 3, 2, 1, 2, 3, 1, 3, 2, 3, 3, 3, 2, 4, 4, 3, 1, 1, 1, 2, 2,\n",
       "       2, 0, 4, 2, 3, 2, 2, 4, 2, 3, 3, 3, 2, 4, 2, 4, 2, 4, 3, 3, 3, 4,\n",
       "       4, 1, 1, 1, 4, 3, 2, 3, 2, 4, 1, 3, 1, 4, 2, 2, 4, 1, 4, 4, 2, 1,\n",
       "       3, 3, 2, 4, 4, 4, 3, 3, 3, 3, 3, 3, 3, 1, 4, 3, 1, 4, 4, 2, 3, 3,\n",
       "       2, 1, 2, 3, 3, 2, 2, 3, 2, 4, 5, 4])"
      ]
     },
     "execution_count": 40,
     "metadata": {},
     "output_type": "execute_result"
    }
   ],
   "source": [
    "head_counts = np.random.binomial(n = 5, p = 0.5, size = 100)\n",
    "head_counts"
   ]
  },
  {
   "cell_type": "code",
   "execution_count": 41,
   "id": "90a240ac",
   "metadata": {},
   "outputs": [
    {
     "data": {
      "text/plain": [
       "(array([0, 1, 2, 3, 4, 5]), array([ 1, 15, 27, 33, 23,  1], dtype=int64))"
      ]
     },
     "execution_count": 41,
     "metadata": {},
     "output_type": "execute_result"
    }
   ],
   "source": [
    "unique_vals, freq = np.unique(head_counts, return_counts = True)\n",
    "unique_vals, freq"
   ]
  },
  {
   "cell_type": "code",
   "execution_count": 42,
   "id": "f34fb0ee",
   "metadata": {},
   "outputs": [
    {
     "data": {
      "text/plain": [
       "array([0.01, 0.15, 0.27, 0.33, 0.23, 0.01])"
      ]
     },
     "execution_count": 42,
     "metadata": {},
     "output_type": "execute_result"
    }
   ],
   "source": [
    "prob = freq/100\n",
    "prob"
   ]
  },
  {
   "cell_type": "code",
   "execution_count": 45,
   "id": "9659f032",
   "metadata": {},
   "outputs": [
    {
     "data": {
      "text/plain": [
       "Text(0, 0.5, 'Frequency')"
      ]
     },
     "execution_count": 45,
     "metadata": {},
     "output_type": "execute_result"
    },
    {
     "data": {
      "image/png": "[encoded data removed]",
      "text/plain": [
       "<Figure size 432x288 with 1 Axes>"
      ]
     },
     "metadata": {
      "needs_background": "light"
     },
     "output_type": "display_data"
    }
   ],
   "source": [
    "plt.bar(unique_vals, prob)\n",
    "plt.grid(True)\n",
    "\n",
    "plt.xlabel(\"Number of heads\")\n",
    "plt.ylabel(\"Frequency\")"
   ]
  },
  {
   "cell_type": "code",
   "execution_count": 58,
   "id": "955e7bd4",
   "metadata": {},
   "outputs": [
    {
     "name": "stdout",
     "output_type": "stream",
     "text": [
      "mean:  24.91646536618472\n",
      "std dev:  3.026982747746672\n"
     ]
    },
    {
     "data": {
      "text/plain": [
       "<matplotlib.lines.Line2D at 0x2045eccd160>"
      ]
     },
     "execution_count": 58,
     "metadata": {},
     "output_type": "execute_result"
    },
    {
     "data": {
      "image/png": "[encoded data removed]",
      "text/plain": [
       "<Figure size 360x360 with 1 Axes>"
      ]
     },
     "metadata": {
      "needs_background": "light"
     },
     "output_type": "display_data"
    }
   ],
   "source": [
    "v = np.random.normal(loc = 25, scale = 3, size = 1000)\n",
    "print(\"mean: \", np.mean(v))\n",
    "print(\"std dev: \", np.std(v))\n",
    "\n",
    "sns.displot(v)\n",
    "plt.axvline(np.mean(v), color = \"red\")\n",
    "plt.axvline(np.mean(v)+np.std(v), color = \"yellow\")\n",
    "plt.axvline(np.mean(v)-np.std(v), color = \"yellow\")\n",
    "plt.axvline(np.mean(v)+2*np.std(v), color = \"green\")\n",
    "plt.axvline(np.mean(v)-2*np.std(v), color = \"green\")\n",
    "plt.axvline(np.mean(v)+3*np.std(v), color = \"orange\")\n",
    "plt.axvline(np.mean(v)-3*np.std(v), color = \"orange\")\n",
    "\n"
   ]
  },
  {
   "cell_type": "code",
   "execution_count": 59,
   "id": "9e068909",
   "metadata": {},
   "outputs": [
    {
     "data": {
      "text/plain": [
       "<seaborn.axisgrid.FacetGrid at 0x2045d80ddf0>"
      ]
     },
     "execution_count": 59,
     "metadata": {},
     "output_type": "execute_result"
    },
    {
     "data": {
      "image/png": "[encoded data removed]",
      "text/plain": [
       "<Figure size 360x360 with 1 Axes>"
      ]
     },
     "metadata": {
      "needs_background": "light"
     },
     "output_type": "display_data"
    }
   ],
   "source": [
    "x1 = np.random.normal(size = 10000)\n",
    "sns.displot(x1)"
   ]
  },
  {
   "cell_type": "code",
   "execution_count": 64,
   "id": "8ef07bca",
   "metadata": {},
   "outputs": [
    {
     "data": {
      "image/png": "[encoded data removed]",
      "text/plain": [
       "<Figure size 360x360 with 1 Axes>"
      ]
     },
     "metadata": {
      "needs_background": "light"
     },
     "output_type": "display_data"
    }
   ],
   "source": [
    "sample = np.random.choice(a = x1, size = 10, replace = False)\n",
    "sns.displot(sample, color = \"red\")\n",
    "plt.xlim(-1.5, 1.5)\n",
    "plt.show()"
   ]
  },
  {
   "cell_type": "code",
   "execution_count": 69,
   "id": "5e29938b",
   "metadata": {},
   "outputs": [
    {
     "data": {
      "text/plain": [
       "<seaborn.axisgrid.FacetGrid at 0x2045d6a83d0>"
      ]
     },
     "execution_count": 69,
     "metadata": {},
     "output_type": "execute_result"
    },
    {
     "data": {
      "image/png": "[encoded data removed]",
      "text/plain": [
       "<Figure size 360x360 with 1 Axes>"
      ]
     },
     "metadata": {
      "needs_background": "light"
     },
     "output_type": "display_data"
    }
   ],
   "source": [
    "study = np.array([1, 2, 3, 4, 5, 6, 7.])               # study hours \n",
    "gpa = np.array([1.0, 1.3, 2.5, 2.6, 3.5, 3.7, 4.0])  \n",
    "\n",
    "sns.relplot(x = study, y = gpa, kind = \"scatter\")"
   ]
  },
  {
   "cell_type": "code",
   "execution_count": 71,
   "id": "e82dce63",
   "metadata": {},
   "outputs": [
    {
     "data": {
      "text/plain": [
       "<AxesSubplot:>"
      ]
     },
     "execution_count": 71,
     "metadata": {},
     "output_type": "execute_result"
    },
    {
     "data": {
      "image/png": "[encoded data removed]",
      "text/plain": [
       "<Figure size 432x288 with 1 Axes>"
      ]
     },
     "metadata": {
      "needs_background": "light"
     },
     "output_type": "display_data"
    }
   ],
   "source": [
    "study = np.array([1, 2, 3, 4, 5, 6, 7.])               # study hours \n",
    "gpa = np.array([1.0, 1.3, 2.5, 2.6, 3.5, 3.7, 4.0])  \n",
    "\n",
    "sns.regplot(x = study, y = gpa)"
   ]
  },
  {
   "cell_type": "code",
   "execution_count": 72,
   "id": "d20e687e",
   "metadata": {},
   "outputs": [
    {
     "data": {
      "image/png": "[encoded data removed]",
      "text/plain": [
       "<Figure size 432x288 with 1 Axes>"
      ]
     },
     "metadata": {
      "needs_background": "light"
     },
     "output_type": "display_data"
    }
   ],
   "source": [
    "x = np.array([1, 2, 3, 4, 5, 6, 7.])               # study hours \n",
    "y = np.array([1.0, 1.3, 2.5, 2.6, 3.5, 3.7, 4.0])   # gpa\n",
    "# plotting the regression line using regplot\n",
    "sns.scatterplot(x=x, y=y)\n",
    "plt.title(\"Study Hours vs GPA of Students\")\n",
    "plt.xlabel(\"Study Hours\")\n",
    "plt.ylabel(\"GPA\")\n",
    "plt.show()"
   ]
  },
  {
   "cell_type": "code",
   "execution_count": 76,
   "id": "8def2da6",
   "metadata": {},
   "outputs": [
    {
     "data": {
      "text/plain": [
       "0.5285714285714287"
      ]
     },
     "execution_count": 76,
     "metadata": {},
     "output_type": "execute_result"
    }
   ],
   "source": [
    "c_m = np.cov(x, y)\n",
    "beta1 = c_m[0,1]/c_m[0,0]\n",
    "beta1"
   ]
  },
  {
   "cell_type": "code",
   "execution_count": 77,
   "id": "b00b9b47",
   "metadata": {},
   "outputs": [
    {
     "data": {
      "text/plain": [
       "0.5428571428571427"
      ]
     },
     "execution_count": 77,
     "metadata": {},
     "output_type": "execute_result"
    }
   ],
   "source": [
    "beta0 = np.mean(y) - beta1*np.mean(x)\n",
    "beta0"
   ]
  },
  {
   "cell_type": "code",
   "execution_count": 80,
   "id": "6930c6fa",
   "metadata": {},
   "outputs": [
    {
     "data": {
      "text/plain": [
       "<AxesSubplot:>"
      ]
     },
     "execution_count": 80,
     "metadata": {},
     "output_type": "execute_result"
    },
    {
     "data": {
      "image/png": "[encoded data removed]",
      "text/plain": [
       "<Figure size 432x288 with 1 Axes>"
      ]
     },
     "metadata": {
      "needs_background": "light"
     },
     "output_type": "display_data"
    }
   ],
   "source": [
    "sns.scatterplot(x=x, y=y)\n",
    "xpointsofline = np.linspace(0, 8, 1000)\n",
    "ypointsofline = beta0 + beta1 * xpointsofline\n",
    "sns.lineplot(x=xpointsofline, y=ypointsofline, color = \"red\")"
   ]
  }
 ],
 "metadata": {
  "kernelspec": {
   "display_name": "Python 3 (ipykernel)",
   "language": "python",
   "name": "python3"
  },
  "language_info": {
   "codemirror_mode": {
    "name": "ipython",
    "version": 3
   },
   "file_extension": ".py",
   "mimetype": "text/x-python",
   "name": "python",
   "nbconvert_exporter": "python",
   "pygments_lexer": "ipython3",
   "version": "3.8.11"
  }
 },
 "nbformat": 4,
 "nbformat_minor": 5
}
