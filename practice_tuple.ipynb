{
  "nbformat": 4,
  "nbformat_minor": 0,
  "metadata": {
    "colab": {
      "provenance": []
    },
    "kernelspec": {
      "name": "python3",
      "display_name": "Python 3"
    },
    "language_info": {
      "name": "python"
    }
  },
  "cells": [
    {
      "cell_type": "code",
      "execution_count": 4,
      "metadata": {
        "colab": {
          "base_uri": "https://localhost:8080/"
        },
        "id": "HrtlEBGMNKbq",
        "outputId": "d41903c7-56ad-49b5-cbc7-c7fcde78d5a3"
      },
      "outputs": [
        {
          "output_type": "stream",
          "name": "stdout",
          "text": [
            "<class 'tuple'>\n"
          ]
        }
      ],
      "source": [
        "t1 = (2,3,4,5,6)\n",
        "\n",
        "print(type(t1))"
      ]
    },
    {
      "cell_type": "code",
      "source": [
        "names1 = ('asad', 'ali', 'ahmad')\n",
        "names2 = ('farhan', 'faiz', 'faizan')\n",
        "\n",
        "n = names1 + names2\n",
        "\n",
        "print(n)"
      ],
      "metadata": {
        "colab": {
          "base_uri": "https://localhost:8080/"
        },
        "id": "L5ok3uYHO69h",
        "outputId": "70fc54bd-b65b-409b-d511-1ec9ba795dad"
      },
      "execution_count": 6,
      "outputs": [
        {
          "output_type": "stream",
          "name": "stdout",
          "text": [
            "('asad', 'ali', 'ahmad', 'farhan', 'faiz', 'faizan')\n"
          ]
        }
      ]
    }
  ]
}